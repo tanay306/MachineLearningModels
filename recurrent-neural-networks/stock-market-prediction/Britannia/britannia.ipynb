{
  "nbformat": 4,
  "nbformat_minor": 0,
  "metadata": {
    "colab": {
      "name": "Untitled5.ipynb",
      "provenance": []
    },
    "kernelspec": {
      "name": "python3",
      "display_name": "Python 3"
    },
    "language_info": {
      "name": "python"
    },
    "accelerator": "TPU"
  },
  "cells": [
    {
      "cell_type": "code",
      "metadata": {
        "id": "3UaOyz1WYF4-"
      },
      "source": [
        "import numpy as np\n",
        "import matplotlib.pyplot as plt\n",
        "import pandas as pd\n",
        "import datetime"
      ],
      "execution_count": 1,
      "outputs": []
    },
    {
      "cell_type": "markdown",
      "metadata": {
        "id": "zf8aUEIJka73"
      },
      "source": [
        "**IMPORTING THE DATASET**"
      ]
    },
    {
      "cell_type": "code",
      "metadata": {
        "id": "MnfGqAKNYUrq"
      },
      "source": [
        "dataset = pd.read_csv('BRITANNIA.csv')"
      ],
      "execution_count": 2,
      "outputs": []
    },
    {
      "cell_type": "code",
      "metadata": {
        "colab": {
          "base_uri": "https://localhost:8080/",
          "height": 296
        },
        "id": "GnVrTf07Yg4H",
        "outputId": "dcbc6831-d1b0-4f35-8a8c-312040f2d578"
      },
      "source": [
        "dataset.head()"
      ],
      "execution_count": 3,
      "outputs": [
        {
          "output_type": "execute_result",
          "data": {
            "text/html": [
              "<div>\n",
              "<style scoped>\n",
              "    .dataframe tbody tr th:only-of-type {\n",
              "        vertical-align: middle;\n",
              "    }\n",
              "\n",
              "    .dataframe tbody tr th {\n",
              "        vertical-align: top;\n",
              "    }\n",
              "\n",
              "    .dataframe thead th {\n",
              "        text-align: right;\n",
              "    }\n",
              "</style>\n",
              "<table border=\"1\" class=\"dataframe\">\n",
              "  <thead>\n",
              "    <tr style=\"text-align: right;\">\n",
              "      <th></th>\n",
              "      <th>Date</th>\n",
              "      <th>Symbol</th>\n",
              "      <th>Series</th>\n",
              "      <th>Prev Close</th>\n",
              "      <th>Open</th>\n",
              "      <th>High</th>\n",
              "      <th>Low</th>\n",
              "      <th>Last</th>\n",
              "      <th>Close</th>\n",
              "      <th>VWAP</th>\n",
              "      <th>Volume</th>\n",
              "      <th>Turnover</th>\n",
              "      <th>Trades</th>\n",
              "      <th>Deliverable Volume</th>\n",
              "      <th>%Deliverble</th>\n",
              "    </tr>\n",
              "  </thead>\n",
              "  <tbody>\n",
              "    <tr>\n",
              "      <th>0</th>\n",
              "      <td>2000-01-03</td>\n",
              "      <td>BRITANNIA</td>\n",
              "      <td>EQ</td>\n",
              "      <td>703.25</td>\n",
              "      <td>705.0</td>\n",
              "      <td>759.50</td>\n",
              "      <td>705.0</td>\n",
              "      <td>758.0</td>\n",
              "      <td>756.90</td>\n",
              "      <td>741.01</td>\n",
              "      <td>7512</td>\n",
              "      <td>5.566488e+11</td>\n",
              "      <td>NaN</td>\n",
              "      <td>NaN</td>\n",
              "      <td>NaN</td>\n",
              "    </tr>\n",
              "    <tr>\n",
              "      <th>1</th>\n",
              "      <td>2000-01-04</td>\n",
              "      <td>BRITANNIA</td>\n",
              "      <td>EQ</td>\n",
              "      <td>756.90</td>\n",
              "      <td>710.0</td>\n",
              "      <td>770.00</td>\n",
              "      <td>710.0</td>\n",
              "      <td>740.0</td>\n",
              "      <td>754.55</td>\n",
              "      <td>742.52</td>\n",
              "      <td>8135</td>\n",
              "      <td>6.040391e+11</td>\n",
              "      <td>NaN</td>\n",
              "      <td>NaN</td>\n",
              "      <td>NaN</td>\n",
              "    </tr>\n",
              "    <tr>\n",
              "      <th>2</th>\n",
              "      <td>2000-01-05</td>\n",
              "      <td>BRITANNIA</td>\n",
              "      <td>EQ</td>\n",
              "      <td>754.55</td>\n",
              "      <td>755.0</td>\n",
              "      <td>759.00</td>\n",
              "      <td>705.0</td>\n",
              "      <td>740.0</td>\n",
              "      <td>735.30</td>\n",
              "      <td>739.92</td>\n",
              "      <td>6095</td>\n",
              "      <td>4.509784e+11</td>\n",
              "      <td>NaN</td>\n",
              "      <td>NaN</td>\n",
              "      <td>NaN</td>\n",
              "    </tr>\n",
              "    <tr>\n",
              "      <th>3</th>\n",
              "      <td>2000-01-06</td>\n",
              "      <td>BRITANNIA</td>\n",
              "      <td>EQ</td>\n",
              "      <td>735.30</td>\n",
              "      <td>740.0</td>\n",
              "      <td>794.15</td>\n",
              "      <td>740.0</td>\n",
              "      <td>770.0</td>\n",
              "      <td>785.65</td>\n",
              "      <td>788.83</td>\n",
              "      <td>19697</td>\n",
              "      <td>1.553756e+12</td>\n",
              "      <td>NaN</td>\n",
              "      <td>NaN</td>\n",
              "      <td>NaN</td>\n",
              "    </tr>\n",
              "    <tr>\n",
              "      <th>4</th>\n",
              "      <td>2000-01-07</td>\n",
              "      <td>BRITANNIA</td>\n",
              "      <td>EQ</td>\n",
              "      <td>785.65</td>\n",
              "      <td>808.0</td>\n",
              "      <td>848.50</td>\n",
              "      <td>798.0</td>\n",
              "      <td>848.5</td>\n",
              "      <td>848.50</td>\n",
              "      <td>827.53</td>\n",
              "      <td>33107</td>\n",
              "      <td>2.739708e+12</td>\n",
              "      <td>NaN</td>\n",
              "      <td>NaN</td>\n",
              "      <td>NaN</td>\n",
              "    </tr>\n",
              "  </tbody>\n",
              "</table>\n",
              "</div>"
            ],
            "text/plain": [
              "         Date     Symbol Series  ...  Trades  Deliverable Volume  %Deliverble\n",
              "0  2000-01-03  BRITANNIA     EQ  ...     NaN                 NaN          NaN\n",
              "1  2000-01-04  BRITANNIA     EQ  ...     NaN                 NaN          NaN\n",
              "2  2000-01-05  BRITANNIA     EQ  ...     NaN                 NaN          NaN\n",
              "3  2000-01-06  BRITANNIA     EQ  ...     NaN                 NaN          NaN\n",
              "4  2000-01-07  BRITANNIA     EQ  ...     NaN                 NaN          NaN\n",
              "\n",
              "[5 rows x 15 columns]"
            ]
          },
          "metadata": {
            "tags": []
          },
          "execution_count": 3
        }
      ]
    },
    {
      "cell_type": "code",
      "metadata": {
        "colab": {
          "base_uri": "https://localhost:8080/",
          "height": 316
        },
        "id": "lzveSNijYiRq",
        "outputId": "fcee2ccd-23fa-4cda-f769-a56b13f62e12"
      },
      "source": [
        "dataset.tail()"
      ],
      "execution_count": 4,
      "outputs": [
        {
          "output_type": "execute_result",
          "data": {
            "text/html": [
              "<div>\n",
              "<style scoped>\n",
              "    .dataframe tbody tr th:only-of-type {\n",
              "        vertical-align: middle;\n",
              "    }\n",
              "\n",
              "    .dataframe tbody tr th {\n",
              "        vertical-align: top;\n",
              "    }\n",
              "\n",
              "    .dataframe thead th {\n",
              "        text-align: right;\n",
              "    }\n",
              "</style>\n",
              "<table border=\"1\" class=\"dataframe\">\n",
              "  <thead>\n",
              "    <tr style=\"text-align: right;\">\n",
              "      <th></th>\n",
              "      <th>Date</th>\n",
              "      <th>Symbol</th>\n",
              "      <th>Series</th>\n",
              "      <th>Prev Close</th>\n",
              "      <th>Open</th>\n",
              "      <th>High</th>\n",
              "      <th>Low</th>\n",
              "      <th>Last</th>\n",
              "      <th>Close</th>\n",
              "      <th>VWAP</th>\n",
              "      <th>Volume</th>\n",
              "      <th>Turnover</th>\n",
              "      <th>Trades</th>\n",
              "      <th>Deliverable Volume</th>\n",
              "      <th>%Deliverble</th>\n",
              "    </tr>\n",
              "  </thead>\n",
              "  <tbody>\n",
              "    <tr>\n",
              "      <th>5300</th>\n",
              "      <td>2021-04-26</td>\n",
              "      <td>BRITANNIA</td>\n",
              "      <td>EQ</td>\n",
              "      <td>3650.30</td>\n",
              "      <td>3661.10</td>\n",
              "      <td>3662.00</td>\n",
              "      <td>3531.0</td>\n",
              "      <td>3546.0</td>\n",
              "      <td>3539.20</td>\n",
              "      <td>3558.62</td>\n",
              "      <td>1031406</td>\n",
              "      <td>3.670382e+14</td>\n",
              "      <td>72258.0</td>\n",
              "      <td>507276.0</td>\n",
              "      <td>0.4918</td>\n",
              "    </tr>\n",
              "    <tr>\n",
              "      <th>5301</th>\n",
              "      <td>2021-04-27</td>\n",
              "      <td>BRITANNIA</td>\n",
              "      <td>EQ</td>\n",
              "      <td>3539.20</td>\n",
              "      <td>3572.70</td>\n",
              "      <td>3574.60</td>\n",
              "      <td>3517.0</td>\n",
              "      <td>3546.0</td>\n",
              "      <td>3541.20</td>\n",
              "      <td>3539.42</td>\n",
              "      <td>813608</td>\n",
              "      <td>2.879697e+14</td>\n",
              "      <td>46189.0</td>\n",
              "      <td>322686.0</td>\n",
              "      <td>0.3966</td>\n",
              "    </tr>\n",
              "    <tr>\n",
              "      <th>5302</th>\n",
              "      <td>2021-04-28</td>\n",
              "      <td>BRITANNIA</td>\n",
              "      <td>EQ</td>\n",
              "      <td>3541.20</td>\n",
              "      <td>3488.00</td>\n",
              "      <td>3527.00</td>\n",
              "      <td>3469.0</td>\n",
              "      <td>3470.0</td>\n",
              "      <td>3478.75</td>\n",
              "      <td>3495.13</td>\n",
              "      <td>1498181</td>\n",
              "      <td>5.236339e+14</td>\n",
              "      <td>97170.0</td>\n",
              "      <td>763715.0</td>\n",
              "      <td>0.5098</td>\n",
              "    </tr>\n",
              "    <tr>\n",
              "      <th>5303</th>\n",
              "      <td>2021-04-29</td>\n",
              "      <td>BRITANNIA</td>\n",
              "      <td>EQ</td>\n",
              "      <td>3478.75</td>\n",
              "      <td>3496.75</td>\n",
              "      <td>3505.90</td>\n",
              "      <td>3447.0</td>\n",
              "      <td>3464.0</td>\n",
              "      <td>3468.90</td>\n",
              "      <td>3471.18</td>\n",
              "      <td>611087</td>\n",
              "      <td>2.121195e+14</td>\n",
              "      <td>41655.0</td>\n",
              "      <td>309653.0</td>\n",
              "      <td>0.5067</td>\n",
              "    </tr>\n",
              "    <tr>\n",
              "      <th>5304</th>\n",
              "      <td>2021-04-30</td>\n",
              "      <td>BRITANNIA</td>\n",
              "      <td>EQ</td>\n",
              "      <td>3468.90</td>\n",
              "      <td>3460.00</td>\n",
              "      <td>3468.35</td>\n",
              "      <td>3437.0</td>\n",
              "      <td>3444.8</td>\n",
              "      <td>3449.00</td>\n",
              "      <td>3450.52</td>\n",
              "      <td>436187</td>\n",
              "      <td>1.505071e+14</td>\n",
              "      <td>34606.0</td>\n",
              "      <td>208365.0</td>\n",
              "      <td>0.4777</td>\n",
              "    </tr>\n",
              "  </tbody>\n",
              "</table>\n",
              "</div>"
            ],
            "text/plain": [
              "            Date     Symbol Series  ...   Trades  Deliverable Volume  %Deliverble\n",
              "5300  2021-04-26  BRITANNIA     EQ  ...  72258.0            507276.0       0.4918\n",
              "5301  2021-04-27  BRITANNIA     EQ  ...  46189.0            322686.0       0.3966\n",
              "5302  2021-04-28  BRITANNIA     EQ  ...  97170.0            763715.0       0.5098\n",
              "5303  2021-04-29  BRITANNIA     EQ  ...  41655.0            309653.0       0.5067\n",
              "5304  2021-04-30  BRITANNIA     EQ  ...  34606.0            208365.0       0.4777\n",
              "\n",
              "[5 rows x 15 columns]"
            ]
          },
          "metadata": {
            "tags": []
          },
          "execution_count": 4
        }
      ]
    },
    {
      "cell_type": "code",
      "metadata": {
        "colab": {
          "base_uri": "https://localhost:8080/"
        },
        "id": "4vf5r6hgYlzu",
        "outputId": "1998dc61-df04-43d1-a701-22515a48a1d5"
      },
      "source": [
        "dataset.isna().any()"
      ],
      "execution_count": 5,
      "outputs": [
        {
          "output_type": "execute_result",
          "data": {
            "text/plain": [
              "Date                  False\n",
              "Symbol                False\n",
              "Series                False\n",
              "Prev Close            False\n",
              "Open                  False\n",
              "High                  False\n",
              "Low                   False\n",
              "Last                  False\n",
              "Close                 False\n",
              "VWAP                  False\n",
              "Volume                False\n",
              "Turnover              False\n",
              "Trades                 True\n",
              "Deliverable Volume     True\n",
              "%Deliverble            True\n",
              "dtype: bool"
            ]
          },
          "metadata": {
            "tags": []
          },
          "execution_count": 5
        }
      ]
    },
    {
      "cell_type": "code",
      "metadata": {
        "colab": {
          "base_uri": "https://localhost:8080/"
        },
        "id": "nEmWnLztYp1u",
        "outputId": "c3e02493-eafa-46fd-fe09-3e3fadabf505"
      },
      "source": [
        "dataset.info()"
      ],
      "execution_count": 6,
      "outputs": [
        {
          "output_type": "stream",
          "text": [
            "<class 'pandas.core.frame.DataFrame'>\n",
            "RangeIndex: 5305 entries, 0 to 5304\n",
            "Data columns (total 15 columns):\n",
            " #   Column              Non-Null Count  Dtype  \n",
            "---  ------              --------------  -----  \n",
            " 0   Date                5305 non-null   object \n",
            " 1   Symbol              5305 non-null   object \n",
            " 2   Series              5305 non-null   object \n",
            " 3   Prev Close          5305 non-null   float64\n",
            " 4   Open                5305 non-null   float64\n",
            " 5   High                5305 non-null   float64\n",
            " 6   Low                 5305 non-null   float64\n",
            " 7   Last                5305 non-null   float64\n",
            " 8   Close               5305 non-null   float64\n",
            " 9   VWAP                5305 non-null   float64\n",
            " 10  Volume              5305 non-null   int64  \n",
            " 11  Turnover            5305 non-null   float64\n",
            " 12  Trades              2456 non-null   float64\n",
            " 13  Deliverable Volume  4796 non-null   float64\n",
            " 14  %Deliverble         4796 non-null   float64\n",
            "dtypes: float64(11), int64(1), object(3)\n",
            "memory usage: 621.8+ KB\n"
          ],
          "name": "stdout"
        }
      ]
    },
    {
      "cell_type": "markdown",
      "metadata": {
        "id": "qABlwtQAkhjt"
      },
      "source": [
        "**DATA VISUALISING**"
      ]
    },
    {
      "cell_type": "code",
      "metadata": {
        "colab": {
          "base_uri": "https://localhost:8080/",
          "height": 391
        },
        "id": "EYxPToMkYwGh",
        "outputId": "2cc8db92-4a21-47f1-9816-b0d65bcb0965"
      },
      "source": [
        "dataset['Open'].plot(figsize=(16,6))"
      ],
      "execution_count": 7,
      "outputs": [
        {
          "output_type": "execute_result",
          "data": {
            "text/plain": [
              "<matplotlib.axes._subplots.AxesSubplot at 0x7f00c1cf56d0>"
            ]
          },
          "metadata": {
            "tags": []
          },
          "execution_count": 7
        },
        {
          "output_type": "display_data",
          "data": {
            "image/png": "[encoded data removed]",
            "text/plain": [
              "<Figure size 1152x432 with 1 Axes>"
            ]
          },
          "metadata": {
            "tags": [],
            "needs_background": "light"
          }
        }
      ]
    },
    {
      "cell_type": "code",
      "metadata": {
        "colab": {
          "base_uri": "https://localhost:8080/",
          "height": 391
        },
        "id": "y0sgXTW0Y11n",
        "outputId": "afef0dba-cf91-47f1-95ae-2751ee0adc84"
      },
      "source": [
        "dataset['Close'].plot(figsize=(16,6))"
      ],
      "execution_count": 8,
      "outputs": [
        {
          "output_type": "execute_result",
          "data": {
            "text/plain": [
              "<matplotlib.axes._subplots.AxesSubplot at 0x7f00c1bd4dd0>"
            ]
          },
          "metadata": {
            "tags": []
          },
          "execution_count": 8
        },
        {
          "output_type": "display_data",
          "data": {
            "image/png": "[encoded data removed]",
            "text/plain": [
              "<Figure size 1152x432 with 1 Axes>"
            ]
          },
          "metadata": {
            "tags": [],
            "needs_background": "light"
          }
        }
      ]
    },
    {
      "cell_type": "code",
      "metadata": {
        "colab": {
          "base_uri": "https://localhost:8080/",
          "height": 656
        },
        "id": "7V8AzaoEZfFt",
        "outputId": "cb3db6be-35e1-42a9-9337-a927d26999fa"
      },
      "source": [
        "dataset.rolling(7).mean().head(20)"
      ],
      "execution_count": 9,
      "outputs": [
        {
          "output_type": "execute_result",
          "data": {
            "text/html": [
              "<div>\n",
              "<style scoped>\n",
              "    .dataframe tbody tr th:only-of-type {\n",
              "        vertical-align: middle;\n",
              "    }\n",
              "\n",
              "    .dataframe tbody tr th {\n",
              "        vertical-align: top;\n",
              "    }\n",
              "\n",
              "    .dataframe thead th {\n",
              "        text-align: right;\n",
              "    }\n",
              "</style>\n",
              "<table border=\"1\" class=\"dataframe\">\n",
              "  <thead>\n",
              "    <tr style=\"text-align: right;\">\n",
              "      <th></th>\n",
              "      <th>Prev Close</th>\n",
              "      <th>Open</th>\n",
              "      <th>High</th>\n",
              "      <th>Low</th>\n",
              "      <th>Last</th>\n",
              "      <th>Close</th>\n",
              "      <th>VWAP</th>\n",
              "      <th>Volume</th>\n",
              "      <th>Turnover</th>\n",
              "      <th>Trades</th>\n",
              "      <th>Deliverable Volume</th>\n",
              "      <th>%Deliverble</th>\n",
              "    </tr>\n",
              "  </thead>\n",
              "  <tbody>\n",
              "    <tr>\n",
              "      <th>0</th>\n",
              "      <td>NaN</td>\n",
              "      <td>NaN</td>\n",
              "      <td>NaN</td>\n",
              "      <td>NaN</td>\n",
              "      <td>NaN</td>\n",
              "      <td>NaN</td>\n",
              "      <td>NaN</td>\n",
              "      <td>NaN</td>\n",
              "      <td>NaN</td>\n",
              "      <td>NaN</td>\n",
              "      <td>NaN</td>\n",
              "      <td>NaN</td>\n",
              "    </tr>\n",
              "    <tr>\n",
              "      <th>1</th>\n",
              "      <td>NaN</td>\n",
              "      <td>NaN</td>\n",
              "      <td>NaN</td>\n",
              "      <td>NaN</td>\n",
              "      <td>NaN</td>\n",
              "      <td>NaN</td>\n",
              "      <td>NaN</td>\n",
              "      <td>NaN</td>\n",
              "      <td>NaN</td>\n",
              "      <td>NaN</td>\n",
              "      <td>NaN</td>\n",
              "      <td>NaN</td>\n",
              "    </tr>\n",
              "    <tr>\n",
              "      <th>2</th>\n",
              "      <td>NaN</td>\n",
              "      <td>NaN</td>\n",
              "      <td>NaN</td>\n",
              "      <td>NaN</td>\n",
              "      <td>NaN</td>\n",
              "      <td>NaN</td>\n",
              "      <td>NaN</td>\n",
              "      <td>NaN</td>\n",
              "      <td>NaN</td>\n",
              "      <td>NaN</td>\n",
              "      <td>NaN</td>\n",
              "      <td>NaN</td>\n",
              "    </tr>\n",
              "    <tr>\n",
              "      <th>3</th>\n",
              "      <td>NaN</td>\n",
              "      <td>NaN</td>\n",
              "      <td>NaN</td>\n",
              "      <td>NaN</td>\n",
              "      <td>NaN</td>\n",
              "      <td>NaN</td>\n",
              "      <td>NaN</td>\n",
              "      <td>NaN</td>\n",
              "      <td>NaN</td>\n",
              "      <td>NaN</td>\n",
              "      <td>NaN</td>\n",
              "      <td>NaN</td>\n",
              "    </tr>\n",
              "    <tr>\n",
              "      <th>4</th>\n",
              "      <td>NaN</td>\n",
              "      <td>NaN</td>\n",
              "      <td>NaN</td>\n",
              "      <td>NaN</td>\n",
              "      <td>NaN</td>\n",
              "      <td>NaN</td>\n",
              "      <td>NaN</td>\n",
              "      <td>NaN</td>\n",
              "      <td>NaN</td>\n",
              "      <td>NaN</td>\n",
              "      <td>NaN</td>\n",
              "      <td>NaN</td>\n",
              "    </tr>\n",
              "    <tr>\n",
              "      <th>5</th>\n",
              "      <td>NaN</td>\n",
              "      <td>NaN</td>\n",
              "      <td>NaN</td>\n",
              "      <td>NaN</td>\n",
              "      <td>NaN</td>\n",
              "      <td>NaN</td>\n",
              "      <td>NaN</td>\n",
              "      <td>NaN</td>\n",
              "      <td>NaN</td>\n",
              "      <td>NaN</td>\n",
              "      <td>NaN</td>\n",
              "      <td>NaN</td>\n",
              "    </tr>\n",
              "    <tr>\n",
              "      <th>6</th>\n",
              "      <td>785.192857</td>\n",
              "      <td>791.142857</td>\n",
              "      <td>823.935714</td>\n",
              "      <td>766.035714</td>\n",
              "      <td>805.414286</td>\n",
              "      <td>806.692857</td>\n",
              "      <td>800.464286</td>\n",
              "      <td>17822.285714</td>\n",
              "      <td>1.479061e+12</td>\n",
              "      <td>NaN</td>\n",
              "      <td>NaN</td>\n",
              "      <td>NaN</td>\n",
              "    </tr>\n",
              "    <tr>\n",
              "      <th>7</th>\n",
              "      <td>806.692857</td>\n",
              "      <td>819.000000</td>\n",
              "      <td>844.007143</td>\n",
              "      <td>788.257143</td>\n",
              "      <td>824.407143</td>\n",
              "      <td>824.664286</td>\n",
              "      <td>821.060000</td>\n",
              "      <td>18079.428571</td>\n",
              "      <td>1.517294e+12</td>\n",
              "      <td>NaN</td>\n",
              "      <td>NaN</td>\n",
              "      <td>NaN</td>\n",
              "    </tr>\n",
              "    <tr>\n",
              "      <th>8</th>\n",
              "      <td>824.664286</td>\n",
              "      <td>844.714286</td>\n",
              "      <td>865.435714</td>\n",
              "      <td>811.828571</td>\n",
              "      <td>845.121429</td>\n",
              "      <td>842.785714</td>\n",
              "      <td>843.408571</td>\n",
              "      <td>19706.714286</td>\n",
              "      <td>1.681761e+12</td>\n",
              "      <td>NaN</td>\n",
              "      <td>NaN</td>\n",
              "      <td>NaN</td>\n",
              "    </tr>\n",
              "    <tr>\n",
              "      <th>9</th>\n",
              "      <td>842.785714</td>\n",
              "      <td>861.500000</td>\n",
              "      <td>882.721429</td>\n",
              "      <td>834.542857</td>\n",
              "      <td>863.692857</td>\n",
              "      <td>861.978571</td>\n",
              "      <td>862.550000</td>\n",
              "      <td>21075.285714</td>\n",
              "      <td>1.813028e+12</td>\n",
              "      <td>NaN</td>\n",
              "      <td>NaN</td>\n",
              "      <td>NaN</td>\n",
              "    </tr>\n",
              "    <tr>\n",
              "      <th>10</th>\n",
              "      <td>861.978571</td>\n",
              "      <td>881.500000</td>\n",
              "      <td>896.414286</td>\n",
              "      <td>853.114286</td>\n",
              "      <td>879.121429</td>\n",
              "      <td>874.878571</td>\n",
              "      <td>875.717143</td>\n",
              "      <td>19279.285714</td>\n",
              "      <td>1.680736e+12</td>\n",
              "      <td>NaN</td>\n",
              "      <td>NaN</td>\n",
              "      <td>NaN</td>\n",
              "    </tr>\n",
              "    <tr>\n",
              "      <th>11</th>\n",
              "      <td>874.878571</td>\n",
              "      <td>890.371429</td>\n",
              "      <td>903.628571</td>\n",
              "      <td>863.114286</td>\n",
              "      <td>885.050000</td>\n",
              "      <td>879.528571</td>\n",
              "      <td>883.297143</td>\n",
              "      <td>16339.142857</td>\n",
              "      <td>1.446925e+12</td>\n",
              "      <td>NaN</td>\n",
              "      <td>NaN</td>\n",
              "      <td>NaN</td>\n",
              "    </tr>\n",
              "    <tr>\n",
              "      <th>12</th>\n",
              "      <td>879.528571</td>\n",
              "      <td>888.800000</td>\n",
              "      <td>902.857143</td>\n",
              "      <td>866.542857</td>\n",
              "      <td>883.635714</td>\n",
              "      <td>877.907143</td>\n",
              "      <td>882.781429</td>\n",
              "      <td>14129.571429</td>\n",
              "      <td>1.246138e+12</td>\n",
              "      <td>NaN</td>\n",
              "      <td>NaN</td>\n",
              "      <td>NaN</td>\n",
              "    </tr>\n",
              "    <tr>\n",
              "      <th>13</th>\n",
              "      <td>877.907143</td>\n",
              "      <td>886.942857</td>\n",
              "      <td>902.842857</td>\n",
              "      <td>874.300000</td>\n",
              "      <td>887.778571</td>\n",
              "      <td>883.900000</td>\n",
              "      <td>889.530000</td>\n",
              "      <td>11991.857143</td>\n",
              "      <td>1.066546e+12</td>\n",
              "      <td>NaN</td>\n",
              "      <td>NaN</td>\n",
              "      <td>NaN</td>\n",
              "    </tr>\n",
              "    <tr>\n",
              "      <th>14</th>\n",
              "      <td>883.900000</td>\n",
              "      <td>886.642857</td>\n",
              "      <td>902.542857</td>\n",
              "      <td>877.828571</td>\n",
              "      <td>887.642857</td>\n",
              "      <td>884.692857</td>\n",
              "      <td>889.992857</td>\n",
              "      <td>10931.285714</td>\n",
              "      <td>9.727544e+11</td>\n",
              "      <td>NaN</td>\n",
              "      <td>NaN</td>\n",
              "      <td>NaN</td>\n",
              "    </tr>\n",
              "    <tr>\n",
              "      <th>15</th>\n",
              "      <td>884.692857</td>\n",
              "      <td>885.214286</td>\n",
              "      <td>898.971429</td>\n",
              "      <td>874.400000</td>\n",
              "      <td>887.785714</td>\n",
              "      <td>885.171429</td>\n",
              "      <td>886.910000</td>\n",
              "      <td>9049.142857</td>\n",
              "      <td>8.015985e+11</td>\n",
              "      <td>NaN</td>\n",
              "      <td>NaN</td>\n",
              "      <td>NaN</td>\n",
              "    </tr>\n",
              "    <tr>\n",
              "      <th>16</th>\n",
              "      <td>885.171429</td>\n",
              "      <td>885.000000</td>\n",
              "      <td>900.400000</td>\n",
              "      <td>875.257143</td>\n",
              "      <td>887.785714</td>\n",
              "      <td>886.828571</td>\n",
              "      <td>887.600000</td>\n",
              "      <td>7789.714286</td>\n",
              "      <td>6.920099e+11</td>\n",
              "      <td>NaN</td>\n",
              "      <td>NaN</td>\n",
              "      <td>NaN</td>\n",
              "    </tr>\n",
              "    <tr>\n",
              "      <th>17</th>\n",
              "      <td>886.828571</td>\n",
              "      <td>882.985714</td>\n",
              "      <td>899.685714</td>\n",
              "      <td>866.792857</td>\n",
              "      <td>880.235714</td>\n",
              "      <td>880.307143</td>\n",
              "      <td>880.770000</td>\n",
              "      <td>8868.714286</td>\n",
              "      <td>7.770447e+11</td>\n",
              "      <td>NaN</td>\n",
              "      <td>NaN</td>\n",
              "      <td>NaN</td>\n",
              "    </tr>\n",
              "    <tr>\n",
              "      <th>18</th>\n",
              "      <td>880.307143</td>\n",
              "      <td>872.971429</td>\n",
              "      <td>887.685714</td>\n",
              "      <td>854.507143</td>\n",
              "      <td>865.950000</td>\n",
              "      <td>867.650000</td>\n",
              "      <td>868.778571</td>\n",
              "      <td>7996.142857</td>\n",
              "      <td>6.925110e+11</td>\n",
              "      <td>NaN</td>\n",
              "      <td>NaN</td>\n",
              "      <td>NaN</td>\n",
              "    </tr>\n",
              "    <tr>\n",
              "      <th>19</th>\n",
              "      <td>867.650000</td>\n",
              "      <td>857.207143</td>\n",
              "      <td>870.114286</td>\n",
              "      <td>831.685714</td>\n",
              "      <td>843.878571</td>\n",
              "      <td>845.635714</td>\n",
              "      <td>848.405714</td>\n",
              "      <td>6754.428571</td>\n",
              "      <td>5.694978e+11</td>\n",
              "      <td>NaN</td>\n",
              "      <td>NaN</td>\n",
              "      <td>NaN</td>\n",
              "    </tr>\n",
              "  </tbody>\n",
              "</table>\n",
              "</div>"
            ],
            "text/plain": [
              "    Prev Close        Open        High  ...  Trades  Deliverable Volume  %Deliverble\n",
              "0          NaN         NaN         NaN  ...     NaN                 NaN          NaN\n",
              "1          NaN         NaN         NaN  ...     NaN                 NaN          NaN\n",
              "2          NaN         NaN         NaN  ...     NaN                 NaN          NaN\n",
              "3          NaN         NaN         NaN  ...     NaN                 NaN          NaN\n",
              "4          NaN         NaN         NaN  ...     NaN                 NaN          NaN\n",
              "5          NaN         NaN         NaN  ...     NaN                 NaN          NaN\n",
              "6   785.192857  791.142857  823.935714  ...     NaN                 NaN          NaN\n",
              "7   806.692857  819.000000  844.007143  ...     NaN                 NaN          NaN\n",
              "8   824.664286  844.714286  865.435714  ...     NaN                 NaN          NaN\n",
              "9   842.785714  861.500000  882.721429  ...     NaN                 NaN          NaN\n",
              "10  861.978571  881.500000  896.414286  ...     NaN                 NaN          NaN\n",
              "11  874.878571  890.371429  903.628571  ...     NaN                 NaN          NaN\n",
              "12  879.528571  888.800000  902.857143  ...     NaN                 NaN          NaN\n",
              "13  877.907143  886.942857  902.842857  ...     NaN                 NaN          NaN\n",
              "14  883.900000  886.642857  902.542857  ...     NaN                 NaN          NaN\n",
              "15  884.692857  885.214286  898.971429  ...     NaN                 NaN          NaN\n",
              "16  885.171429  885.000000  900.400000  ...     NaN                 NaN          NaN\n",
              "17  886.828571  882.985714  899.685714  ...     NaN                 NaN          NaN\n",
              "18  880.307143  872.971429  887.685714  ...     NaN                 NaN          NaN\n",
              "19  867.650000  857.207143  870.114286  ...     NaN                 NaN          NaN\n",
              "\n",
              "[20 rows x 12 columns]"
            ]
          },
          "metadata": {
            "tags": []
          },
          "execution_count": 9
        }
      ]
    },
    {
      "cell_type": "code",
      "metadata": {
        "colab": {
          "base_uri": "https://localhost:8080/",
          "height": 391
        },
        "id": "oZCbnglyZi8T",
        "outputId": "544a7836-087e-42b4-ca07-db58f7cedae6"
      },
      "source": [
        "dataset['Open'].plot(figsize=(16,6))\n",
        "dataset.rolling(window=30).mean()['Close'].plot()"
      ],
      "execution_count": 10,
      "outputs": [
        {
          "output_type": "execute_result",
          "data": {
            "text/plain": [
              "<matplotlib.axes._subplots.AxesSubplot at 0x7f00c1776390>"
            ]
          },
          "metadata": {
            "tags": []
          },
          "execution_count": 10
        },
        {
          "output_type": "display_data",
          "data": {
            "image/png": "[encoded data removed]",
            "text/plain": [
              "<Figure size 1152x432 with 1 Axes>"
            ]
          },
          "metadata": {
            "tags": [],
            "needs_background": "light"
          }
        }
      ]
    },
    {
      "cell_type": "code",
      "metadata": {
        "colab": {
          "base_uri": "https://localhost:8080/",
          "height": 391
        },
        "id": "-wALUTcvZorD",
        "outputId": "1439f333-06c6-4d67-97f4-0e217d5541b9"
      },
      "source": [
        "dataset['Close: 30 Day Mean'] = dataset['Close'].rolling(window=30).mean()\n",
        "dataset[['Close', 'Close: 30 Day Mean']].plot(figsize=(16,6))"
      ],
      "execution_count": 11,
      "outputs": [
        {
          "output_type": "execute_result",
          "data": {
            "text/plain": [
              "<matplotlib.axes._subplots.AxesSubplot at 0x7f00c168c510>"
            ]
          },
          "metadata": {
            "tags": []
          },
          "execution_count": 11
        },
        {
          "output_type": "display_data",
          "data": {
            "image/png": "[encoded data removed]",
            "text/plain": [
              "<Figure size 1152x432 with 1 Axes>"
            ]
          },
          "metadata": {
            "tags": [],
            "needs_background": "light"
          }
        }
      ]
    },
    {
      "cell_type": "code",
      "metadata": {
        "colab": {
          "base_uri": "https://localhost:8080/",
          "height": 391
        },
        "id": "wvA4puh6ZshX",
        "outputId": "0794392d-2f1e-46d9-8a2e-c5edaf5ebac7"
      },
      "source": [
        "dataset['Close'].expanding(min_periods=1).mean().plot(figsize=(16,6))"
      ],
      "execution_count": 12,
      "outputs": [
        {
          "output_type": "execute_result",
          "data": {
            "text/plain": [
              "<matplotlib.axes._subplots.AxesSubplot at 0x7f00c1680d50>"
            ]
          },
          "metadata": {
            "tags": []
          },
          "execution_count": 12
        },
        {
          "output_type": "display_data",
          "data": {
            "image/png": "[encoded data removed]",
            "text/plain": [
              "<Figure size 1152x432 with 1 Axes>"
            ]
          },
          "metadata": {
            "tags": [],
            "needs_background": "light"
          }
        }
      ]
    },
    {
      "cell_type": "markdown",
      "metadata": {
        "id": "a-LmZVtxksnP"
      },
      "source": [
        "**BUILDING THE RNN MODEL**"
      ]
    },
    {
      "cell_type": "code",
      "metadata": {
        "id": "QyoPOZAzZvVb"
      },
      "source": [
        "training_set = dataset['Open']\n",
        "training_set=pd.DataFrame(training_set)"
      ],
      "execution_count": 13,
      "outputs": []
    },
    {
      "cell_type": "code",
      "metadata": {
        "colab": {
          "base_uri": "https://localhost:8080/"
        },
        "id": "oZxMNsvnZySC",
        "outputId": "4fd16715-2659-4f79-874d-25b3df2f6082"
      },
      "source": [
        "training_set.isna().any()"
      ],
      "execution_count": 14,
      "outputs": [
        {
          "output_type": "execute_result",
          "data": {
            "text/plain": [
              "Open    False\n",
              "dtype: bool"
            ]
          },
          "metadata": {
            "tags": []
          },
          "execution_count": 14
        }
      ]
    },
    {
      "cell_type": "code",
      "metadata": {
        "id": "Y4giuf19i-VP"
      },
      "source": [
        "training_set = dataset.iloc[:,4:5].values\n",
        "from sklearn.preprocessing import MinMaxScaler\n",
        "sc = MinMaxScaler()\n",
        "training_set = sc.fit_transform(training_set)"
      ],
      "execution_count": 15,
      "outputs": []
    },
    {
      "cell_type": "code",
      "metadata": {
        "id": "ZmJhTXtnZ0VT"
      },
      "source": [
        "X_train = training_set[0:5303]\n",
        "y_train = training_set[1:5304]\n",
        "X_train = np.reshape(X_train,(5303,1,1))"
      ],
      "execution_count": 16,
      "outputs": []
    },
    {
      "cell_type": "code",
      "metadata": {
        "id": "vuE8Gbnxaeuc"
      },
      "source": [
        "from keras.models import Sequential\n",
        "from keras.layers import Dense\n",
        "from keras.layers import LSTM\n",
        "from keras.layers import Dropout"
      ],
      "execution_count": 17,
      "outputs": []
    },
    {
      "cell_type": "code",
      "metadata": {
        "id": "-6fteMycafyw"
      },
      "source": [
        "regressor = Sequential()\n",
        "regressor.add(LSTM(units = 50, return_sequences = True, input_shape = (X_train.shape[1],1)))\n",
        "regressor.add(Dropout(0.2))\n",
        "regressor.add(LSTM(units = 50, return_sequences = True))\n",
        "regressor.add(Dropout(0.2))\n",
        "regressor.add(LSTM(units = 50, return_sequences = True))\n",
        "regressor.add(Dropout(0.2))\n",
        "regressor.add(LSTM(units = 50))\n",
        "regressor.add(Dropout(0.2))\n",
        "regressor.add(Dense(units=1))"
      ],
      "execution_count": 18,
      "outputs": []
    },
    {
      "cell_type": "code",
      "metadata": {
        "colab": {
          "base_uri": "https://localhost:8080/"
        },
        "id": "wFv9MxoNayox",
        "outputId": "0ef8f1b2-73f1-4c2c-9e18-b8f7b44922f1"
      },
      "source": [
        "regressor.compile(optimizer='adam', loss='mean_squared_error')\n",
        "regressor.fit(X_train, y_train, epochs=200, batch_size=32)"
      ],
      "execution_count": 19,
      "outputs": [
        {
          "output_type": "stream",
          "text": [
            "Epoch 1/200\n",
            "166/166 [==============================] - 7s 6ms/step - loss: 0.0435\n",
            "Epoch 2/200\n",
            "166/166 [==============================] - 1s 6ms/step - loss: 0.0021\n",
            "Epoch 3/200\n",
            "166/166 [==============================] - 1s 6ms/step - loss: 0.0015\n",
            "Epoch 4/200\n",
            "166/166 [==============================] - 1s 6ms/step - loss: 0.0015\n",
            "Epoch 5/200\n",
            "166/166 [==============================] - 1s 6ms/step - loss: 0.0010\n",
            "Epoch 6/200\n",
            "166/166 [==============================] - 1s 6ms/step - loss: 0.0012\n",
            "Epoch 7/200\n",
            "166/166 [==============================] - 1s 6ms/step - loss: 0.0011\n",
            "Epoch 8/200\n",
            "166/166 [==============================] - 1s 6ms/step - loss: 9.5960e-04\n",
            "Epoch 9/200\n",
            "166/166 [==============================] - 1s 6ms/step - loss: 0.0010\n",
            "Epoch 10/200\n",
            "166/166 [==============================] - 1s 6ms/step - loss: 0.0013\n",
            "Epoch 11/200\n",
            "166/166 [==============================] - 1s 6ms/step - loss: 0.0010\n",
            "Epoch 12/200\n",
            "166/166 [==============================] - 1s 6ms/step - loss: 9.7171e-04\n",
            "Epoch 13/200\n",
            "166/166 [==============================] - 1s 6ms/step - loss: 9.2662e-04\n",
            "Epoch 14/200\n",
            "166/166 [==============================] - 1s 6ms/step - loss: 0.0010\n",
            "Epoch 15/200\n",
            "166/166 [==============================] - 1s 6ms/step - loss: 9.6717e-04\n",
            "Epoch 16/200\n",
            "166/166 [==============================] - 1s 6ms/step - loss: 0.0011\n",
            "Epoch 17/200\n",
            "166/166 [==============================] - 1s 6ms/step - loss: 9.5292e-04\n",
            "Epoch 18/200\n",
            "166/166 [==============================] - 1s 6ms/step - loss: 8.7332e-04\n",
            "Epoch 19/200\n",
            "166/166 [==============================] - 1s 6ms/step - loss: 8.3180e-04\n",
            "Epoch 20/200\n",
            "166/166 [==============================] - 1s 6ms/step - loss: 9.5552e-04\n",
            "Epoch 21/200\n",
            "166/166 [==============================] - 1s 6ms/step - loss: 8.4026e-04\n",
            "Epoch 22/200\n",
            "166/166 [==============================] - 1s 6ms/step - loss: 9.4053e-04\n",
            "Epoch 23/200\n",
            "166/166 [==============================] - 1s 6ms/step - loss: 0.0010\n",
            "Epoch 24/200\n",
            "166/166 [==============================] - 1s 6ms/step - loss: 8.5307e-04\n",
            "Epoch 25/200\n",
            "166/166 [==============================] - 1s 6ms/step - loss: 9.2145e-04\n",
            "Epoch 26/200\n",
            "166/166 [==============================] - 1s 6ms/step - loss: 8.4891e-04\n",
            "Epoch 27/200\n",
            "166/166 [==============================] - 1s 6ms/step - loss: 9.5973e-04\n",
            "Epoch 28/200\n",
            "166/166 [==============================] - 1s 6ms/step - loss: 9.7617e-04\n",
            "Epoch 29/200\n",
            "166/166 [==============================] - 1s 6ms/step - loss: 8.6806e-04\n",
            "Epoch 30/200\n",
            "166/166 [==============================] - 1s 6ms/step - loss: 8.6198e-04\n",
            "Epoch 31/200\n",
            "166/166 [==============================] - 1s 6ms/step - loss: 8.5858e-04\n",
            "Epoch 32/200\n",
            "166/166 [==============================] - 1s 6ms/step - loss: 9.5052e-04\n",
            "Epoch 33/200\n",
            "166/166 [==============================] - 1s 6ms/step - loss: 9.0456e-04\n",
            "Epoch 34/200\n",
            "166/166 [==============================] - 1s 6ms/step - loss: 8.2197e-04\n",
            "Epoch 35/200\n",
            "166/166 [==============================] - 1s 6ms/step - loss: 8.3602e-04\n",
            "Epoch 36/200\n",
            "166/166 [==============================] - 1s 6ms/step - loss: 8.2483e-04\n",
            "Epoch 37/200\n",
            "166/166 [==============================] - 1s 6ms/step - loss: 8.4400e-04\n",
            "Epoch 38/200\n",
            "166/166 [==============================] - 1s 6ms/step - loss: 9.1104e-04\n",
            "Epoch 39/200\n",
            "166/166 [==============================] - 1s 6ms/step - loss: 8.5651e-04\n",
            "Epoch 40/200\n",
            "166/166 [==============================] - 1s 6ms/step - loss: 9.1519e-04\n",
            "Epoch 41/200\n",
            "166/166 [==============================] - 1s 6ms/step - loss: 8.4935e-04\n",
            "Epoch 42/200\n",
            "166/166 [==============================] - 1s 6ms/step - loss: 9.7415e-04\n",
            "Epoch 43/200\n",
            "166/166 [==============================] - 1s 6ms/step - loss: 0.0010\n",
            "Epoch 44/200\n",
            "166/166 [==============================] - 1s 6ms/step - loss: 8.9214e-04\n",
            "Epoch 45/200\n",
            "166/166 [==============================] - 1s 6ms/step - loss: 8.5796e-04\n",
            "Epoch 46/200\n",
            "166/166 [==============================] - 1s 6ms/step - loss: 8.6867e-04\n",
            "Epoch 47/200\n",
            "166/166 [==============================] - 1s 6ms/step - loss: 8.7909e-04\n",
            "Epoch 48/200\n",
            "166/166 [==============================] - 1s 6ms/step - loss: 8.5430e-04\n",
            "Epoch 49/200\n",
            "166/166 [==============================] - 1s 6ms/step - loss: 8.6341e-04\n",
            "Epoch 50/200\n",
            "166/166 [==============================] - 1s 6ms/step - loss: 7.9978e-04\n",
            "Epoch 51/200\n",
            "166/166 [==============================] - 1s 6ms/step - loss: 8.0796e-04\n",
            "Epoch 52/200\n",
            "166/166 [==============================] - 1s 6ms/step - loss: 7.8688e-04\n",
            "Epoch 53/200\n",
            "166/166 [==============================] - 1s 6ms/step - loss: 8.4193e-04\n",
            "Epoch 54/200\n",
            "166/166 [==============================] - 1s 6ms/step - loss: 8.8532e-04\n",
            "Epoch 55/200\n",
            "166/166 [==============================] - 1s 6ms/step - loss: 8.1872e-04\n",
            "Epoch 56/200\n",
            "166/166 [==============================] - 1s 6ms/step - loss: 7.8766e-04\n",
            "Epoch 57/200\n",
            "166/166 [==============================] - 1s 6ms/step - loss: 7.8529e-04\n",
            "Epoch 58/200\n",
            "166/166 [==============================] - 1s 6ms/step - loss: 8.2257e-04\n",
            "Epoch 59/200\n",
            "166/166 [==============================] - 1s 6ms/step - loss: 8.1821e-04\n",
            "Epoch 60/200\n",
            "166/166 [==============================] - 1s 6ms/step - loss: 7.6534e-04\n",
            "Epoch 61/200\n",
            "166/166 [==============================] - 1s 6ms/step - loss: 8.8552e-04\n",
            "Epoch 62/200\n",
            "166/166 [==============================] - 1s 6ms/step - loss: 7.7374e-04\n",
            "Epoch 63/200\n",
            "166/166 [==============================] - 1s 6ms/step - loss: 7.7198e-04\n",
            "Epoch 64/200\n",
            "166/166 [==============================] - 1s 6ms/step - loss: 9.6274e-04\n",
            "Epoch 65/200\n",
            "166/166 [==============================] - 1s 6ms/step - loss: 7.5591e-04\n",
            "Epoch 66/200\n",
            "166/166 [==============================] - 1s 6ms/step - loss: 8.7288e-04\n",
            "Epoch 67/200\n",
            "166/166 [==============================] - 1s 6ms/step - loss: 7.6300e-04\n",
            "Epoch 68/200\n",
            "166/166 [==============================] - 1s 6ms/step - loss: 7.3051e-04\n",
            "Epoch 69/200\n",
            "166/166 [==============================] - 1s 6ms/step - loss: 8.2707e-04\n",
            "Epoch 70/200\n",
            "166/166 [==============================] - 1s 6ms/step - loss: 7.8438e-04\n",
            "Epoch 71/200\n",
            "166/166 [==============================] - 1s 6ms/step - loss: 7.7878e-04\n",
            "Epoch 72/200\n",
            "166/166 [==============================] - 1s 6ms/step - loss: 7.8647e-04\n",
            "Epoch 73/200\n",
            "166/166 [==============================] - 1s 6ms/step - loss: 7.2276e-04\n",
            "Epoch 74/200\n",
            "166/166 [==============================] - 1s 6ms/step - loss: 9.0680e-04\n",
            "Epoch 75/200\n",
            "166/166 [==============================] - 1s 6ms/step - loss: 8.0245e-04\n",
            "Epoch 76/200\n",
            "166/166 [==============================] - 1s 6ms/step - loss: 8.2035e-04\n",
            "Epoch 77/200\n",
            "166/166 [==============================] - 1s 6ms/step - loss: 6.7504e-04\n",
            "Epoch 78/200\n",
            "166/166 [==============================] - 1s 6ms/step - loss: 7.4288e-04\n",
            "Epoch 79/200\n",
            "166/166 [==============================] - 1s 6ms/step - loss: 7.6189e-04\n",
            "Epoch 80/200\n",
            "166/166 [==============================] - 1s 6ms/step - loss: 7.8578e-04\n",
            "Epoch 81/200\n",
            "166/166 [==============================] - 1s 6ms/step - loss: 6.7458e-04\n",
            "Epoch 82/200\n",
            "166/166 [==============================] - 1s 6ms/step - loss: 6.4107e-04\n",
            "Epoch 83/200\n",
            "166/166 [==============================] - 1s 6ms/step - loss: 7.0982e-04\n",
            "Epoch 84/200\n",
            "166/166 [==============================] - 1s 6ms/step - loss: 6.7858e-04\n",
            "Epoch 85/200\n",
            "166/166 [==============================] - 1s 6ms/step - loss: 6.6647e-04\n",
            "Epoch 86/200\n",
            "166/166 [==============================] - 1s 6ms/step - loss: 6.7030e-04\n",
            "Epoch 87/200\n",
            "166/166 [==============================] - 1s 6ms/step - loss: 7.5723e-04\n",
            "Epoch 88/200\n",
            "166/166 [==============================] - 1s 6ms/step - loss: 5.9625e-04\n",
            "Epoch 89/200\n",
            "166/166 [==============================] - 1s 6ms/step - loss: 6.9007e-04\n",
            "Epoch 90/200\n",
            "166/166 [==============================] - 1s 6ms/step - loss: 7.4769e-04\n",
            "Epoch 91/200\n",
            "166/166 [==============================] - 1s 6ms/step - loss: 7.6235e-04\n",
            "Epoch 92/200\n",
            "166/166 [==============================] - 1s 6ms/step - loss: 6.6655e-04\n",
            "Epoch 93/200\n",
            "166/166 [==============================] - 1s 6ms/step - loss: 6.1991e-04\n",
            "Epoch 94/200\n",
            "166/166 [==============================] - 1s 6ms/step - loss: 6.7220e-04\n",
            "Epoch 95/200\n",
            "166/166 [==============================] - 1s 6ms/step - loss: 6.0746e-04\n",
            "Epoch 96/200\n",
            "166/166 [==============================] - 1s 6ms/step - loss: 6.6428e-04\n",
            "Epoch 97/200\n",
            "166/166 [==============================] - 1s 6ms/step - loss: 8.7379e-04\n",
            "Epoch 98/200\n",
            "166/166 [==============================] - 1s 6ms/step - loss: 6.5159e-04\n",
            "Epoch 99/200\n",
            "166/166 [==============================] - 1s 6ms/step - loss: 7.0699e-04\n",
            "Epoch 100/200\n",
            "166/166 [==============================] - 1s 6ms/step - loss: 6.5528e-04\n",
            "Epoch 101/200\n",
            "166/166 [==============================] - 1s 6ms/step - loss: 6.9788e-04\n",
            "Epoch 102/200\n",
            "166/166 [==============================] - 1s 6ms/step - loss: 6.7004e-04\n",
            "Epoch 103/200\n",
            "166/166 [==============================] - 1s 6ms/step - loss: 6.5703e-04\n",
            "Epoch 104/200\n",
            "166/166 [==============================] - 1s 6ms/step - loss: 7.2852e-04\n",
            "Epoch 105/200\n",
            "166/166 [==============================] - 1s 6ms/step - loss: 6.1224e-04\n",
            "Epoch 106/200\n",
            "166/166 [==============================] - 1s 6ms/step - loss: 6.8601e-04\n",
            "Epoch 107/200\n",
            "166/166 [==============================] - 1s 6ms/step - loss: 7.3627e-04\n",
            "Epoch 108/200\n",
            "166/166 [==============================] - 1s 6ms/step - loss: 7.3068e-04\n",
            "Epoch 109/200\n",
            "166/166 [==============================] - 1s 6ms/step - loss: 6.3914e-04\n",
            "Epoch 110/200\n",
            "166/166 [==============================] - 1s 6ms/step - loss: 7.0440e-04\n",
            "Epoch 111/200\n",
            "166/166 [==============================] - 1s 6ms/step - loss: 7.2442e-04\n",
            "Epoch 112/200\n",
            "166/166 [==============================] - 1s 6ms/step - loss: 6.4728e-04\n",
            "Epoch 113/200\n",
            "166/166 [==============================] - 1s 6ms/step - loss: 6.8285e-04\n",
            "Epoch 114/200\n",
            "166/166 [==============================] - 1s 6ms/step - loss: 6.3486e-04\n",
            "Epoch 115/200\n",
            "166/166 [==============================] - 1s 6ms/step - loss: 6.8666e-04\n",
            "Epoch 116/200\n",
            "166/166 [==============================] - 1s 6ms/step - loss: 5.9352e-04\n",
            "Epoch 117/200\n",
            "166/166 [==============================] - 1s 6ms/step - loss: 7.0076e-04\n",
            "Epoch 118/200\n",
            "166/166 [==============================] - 1s 6ms/step - loss: 6.5916e-04\n",
            "Epoch 119/200\n",
            "166/166 [==============================] - 1s 6ms/step - loss: 6.3642e-04\n",
            "Epoch 120/200\n",
            "166/166 [==============================] - 1s 6ms/step - loss: 6.4210e-04\n",
            "Epoch 121/200\n",
            "166/166 [==============================] - 1s 6ms/step - loss: 7.0025e-04\n",
            "Epoch 122/200\n",
            "166/166 [==============================] - 1s 6ms/step - loss: 6.4532e-04\n",
            "Epoch 123/200\n",
            "166/166 [==============================] - 1s 6ms/step - loss: 6.1826e-04\n",
            "Epoch 124/200\n",
            "166/166 [==============================] - 1s 6ms/step - loss: 7.3654e-04\n",
            "Epoch 125/200\n",
            "166/166 [==============================] - 1s 6ms/step - loss: 6.8166e-04\n",
            "Epoch 126/200\n",
            "166/166 [==============================] - 1s 6ms/step - loss: 7.0373e-04\n",
            "Epoch 127/200\n",
            "166/166 [==============================] - 1s 6ms/step - loss: 6.6845e-04\n",
            "Epoch 128/200\n",
            "166/166 [==============================] - 1s 6ms/step - loss: 6.6424e-04\n",
            "Epoch 129/200\n",
            "166/166 [==============================] - 1s 6ms/step - loss: 6.6441e-04\n",
            "Epoch 130/200\n",
            "166/166 [==============================] - 1s 7ms/step - loss: 5.9878e-04\n",
            "Epoch 131/200\n",
            "166/166 [==============================] - 1s 6ms/step - loss: 7.8304e-04\n",
            "Epoch 132/200\n",
            "166/166 [==============================] - 1s 6ms/step - loss: 6.7760e-04\n",
            "Epoch 133/200\n",
            "166/166 [==============================] - 1s 6ms/step - loss: 6.5212e-04\n",
            "Epoch 134/200\n",
            "166/166 [==============================] - 1s 6ms/step - loss: 6.2389e-04\n",
            "Epoch 135/200\n",
            "166/166 [==============================] - 1s 6ms/step - loss: 6.0860e-04\n",
            "Epoch 136/200\n",
            "166/166 [==============================] - 1s 6ms/step - loss: 6.5830e-04\n",
            "Epoch 137/200\n",
            "166/166 [==============================] - 1s 6ms/step - loss: 6.8925e-04\n",
            "Epoch 138/200\n",
            "166/166 [==============================] - 1s 6ms/step - loss: 6.2550e-04\n",
            "Epoch 139/200\n",
            "166/166 [==============================] - 1s 6ms/step - loss: 7.6208e-04\n",
            "Epoch 140/200\n",
            "166/166 [==============================] - 1s 6ms/step - loss: 6.0653e-04\n",
            "Epoch 141/200\n",
            "166/166 [==============================] - 1s 6ms/step - loss: 6.1471e-04\n",
            "Epoch 142/200\n",
            "166/166 [==============================] - 1s 6ms/step - loss: 6.4617e-04\n",
            "Epoch 143/200\n",
            "166/166 [==============================] - 1s 6ms/step - loss: 6.1101e-04\n",
            "Epoch 144/200\n",
            "166/166 [==============================] - 1s 6ms/step - loss: 5.9187e-04\n",
            "Epoch 145/200\n",
            "166/166 [==============================] - 1s 6ms/step - loss: 6.7761e-04\n",
            "Epoch 146/200\n",
            "166/166 [==============================] - 1s 6ms/step - loss: 6.7729e-04\n",
            "Epoch 147/200\n",
            "166/166 [==============================] - 1s 6ms/step - loss: 6.6716e-04\n",
            "Epoch 148/200\n",
            "166/166 [==============================] - 1s 6ms/step - loss: 6.5391e-04\n",
            "Epoch 149/200\n",
            "166/166 [==============================] - 1s 6ms/step - loss: 6.7269e-04\n",
            "Epoch 150/200\n",
            "166/166 [==============================] - 1s 6ms/step - loss: 6.1452e-04\n",
            "Epoch 151/200\n",
            "166/166 [==============================] - 1s 6ms/step - loss: 6.9966e-04\n",
            "Epoch 152/200\n",
            "166/166 [==============================] - 1s 6ms/step - loss: 6.1124e-04\n",
            "Epoch 153/200\n",
            "166/166 [==============================] - 1s 6ms/step - loss: 6.4888e-04\n",
            "Epoch 154/200\n",
            "166/166 [==============================] - 1s 6ms/step - loss: 6.6928e-04\n",
            "Epoch 155/200\n",
            "166/166 [==============================] - 1s 6ms/step - loss: 5.9046e-04\n",
            "Epoch 156/200\n",
            "166/166 [==============================] - 1s 6ms/step - loss: 5.8294e-04\n",
            "Epoch 157/200\n",
            "166/166 [==============================] - 1s 6ms/step - loss: 6.5405e-04\n",
            "Epoch 158/200\n",
            "166/166 [==============================] - 1s 6ms/step - loss: 6.8404e-04\n",
            "Epoch 159/200\n",
            "166/166 [==============================] - 1s 6ms/step - loss: 6.4806e-04\n",
            "Epoch 160/200\n",
            "166/166 [==============================] - 1s 6ms/step - loss: 6.8433e-04\n",
            "Epoch 161/200\n",
            "166/166 [==============================] - 1s 6ms/step - loss: 6.2091e-04\n",
            "Epoch 162/200\n",
            "166/166 [==============================] - 1s 6ms/step - loss: 5.7937e-04\n",
            "Epoch 163/200\n",
            "166/166 [==============================] - 1s 6ms/step - loss: 5.7947e-04\n",
            "Epoch 164/200\n",
            "166/166 [==============================] - 1s 6ms/step - loss: 6.3440e-04\n",
            "Epoch 165/200\n",
            "166/166 [==============================] - 1s 6ms/step - loss: 6.5505e-04\n",
            "Epoch 166/200\n",
            "166/166 [==============================] - 1s 6ms/step - loss: 6.1896e-04\n",
            "Epoch 167/200\n",
            "166/166 [==============================] - 1s 6ms/step - loss: 7.4684e-04\n",
            "Epoch 168/200\n",
            "166/166 [==============================] - 1s 6ms/step - loss: 6.8143e-04\n",
            "Epoch 169/200\n",
            "166/166 [==============================] - 1s 6ms/step - loss: 6.3526e-04\n",
            "Epoch 170/200\n",
            "166/166 [==============================] - 1s 6ms/step - loss: 6.4009e-04\n",
            "Epoch 171/200\n",
            "166/166 [==============================] - 1s 6ms/step - loss: 6.4138e-04\n",
            "Epoch 172/200\n",
            "166/166 [==============================] - 1s 6ms/step - loss: 6.3715e-04\n",
            "Epoch 173/200\n",
            "166/166 [==============================] - 1s 6ms/step - loss: 6.1769e-04\n",
            "Epoch 174/200\n",
            "166/166 [==============================] - 1s 6ms/step - loss: 5.9138e-04\n",
            "Epoch 175/200\n",
            "166/166 [==============================] - 1s 6ms/step - loss: 6.6470e-04\n",
            "Epoch 176/200\n",
            "166/166 [==============================] - 1s 6ms/step - loss: 5.7610e-04\n",
            "Epoch 177/200\n",
            "166/166 [==============================] - 1s 6ms/step - loss: 5.3914e-04\n",
            "Epoch 178/200\n",
            "166/166 [==============================] - 1s 6ms/step - loss: 5.7848e-04\n",
            "Epoch 179/200\n",
            "166/166 [==============================] - 1s 6ms/step - loss: 5.6667e-04\n",
            "Epoch 180/200\n",
            "166/166 [==============================] - 1s 6ms/step - loss: 6.8666e-04\n",
            "Epoch 181/200\n",
            "166/166 [==============================] - 1s 6ms/step - loss: 7.0547e-04\n",
            "Epoch 182/200\n",
            "166/166 [==============================] - 1s 6ms/step - loss: 5.7358e-04\n",
            "Epoch 183/200\n",
            "166/166 [==============================] - 1s 6ms/step - loss: 6.9029e-04\n",
            "Epoch 184/200\n",
            "166/166 [==============================] - 1s 6ms/step - loss: 7.1887e-04\n",
            "Epoch 185/200\n",
            "166/166 [==============================] - 1s 6ms/step - loss: 6.0742e-04\n",
            "Epoch 186/200\n",
            "166/166 [==============================] - 1s 6ms/step - loss: 5.7827e-04\n",
            "Epoch 187/200\n",
            "166/166 [==============================] - 1s 6ms/step - loss: 6.6034e-04\n",
            "Epoch 188/200\n",
            "166/166 [==============================] - 1s 6ms/step - loss: 5.8776e-04\n",
            "Epoch 189/200\n",
            "166/166 [==============================] - 1s 6ms/step - loss: 6.2496e-04\n",
            "Epoch 190/200\n",
            "166/166 [==============================] - 1s 6ms/step - loss: 6.3919e-04\n",
            "Epoch 191/200\n",
            "166/166 [==============================] - 1s 6ms/step - loss: 5.8451e-04\n",
            "Epoch 192/200\n",
            "166/166 [==============================] - 1s 6ms/step - loss: 6.4549e-04\n",
            "Epoch 193/200\n",
            "166/166 [==============================] - 1s 6ms/step - loss: 7.6440e-04\n",
            "Epoch 194/200\n",
            "166/166 [==============================] - 1s 6ms/step - loss: 5.2318e-04\n",
            "Epoch 195/200\n",
            "166/166 [==============================] - 1s 6ms/step - loss: 5.8237e-04\n",
            "Epoch 196/200\n",
            "166/166 [==============================] - 1s 6ms/step - loss: 5.2487e-04\n",
            "Epoch 197/200\n",
            "166/166 [==============================] - 1s 6ms/step - loss: 5.5561e-04\n",
            "Epoch 198/200\n",
            "166/166 [==============================] - 1s 6ms/step - loss: 6.5054e-04\n",
            "Epoch 199/200\n",
            "166/166 [==============================] - 1s 6ms/step - loss: 5.6991e-04\n",
            "Epoch 200/200\n",
            "166/166 [==============================] - 1s 6ms/step - loss: 6.3537e-04\n"
          ],
          "name": "stdout"
        },
        {
          "output_type": "execute_result",
          "data": {
            "text/plain": [
              "<tensorflow.python.keras.callbacks.History at 0x7f007a9cacd0>"
            ]
          },
          "metadata": {
            "tags": []
          },
          "execution_count": 19
        }
      ]
    },
    {
      "cell_type": "markdown",
      "metadata": {
        "id": "xbw75sIIkv8w"
      },
      "source": [
        "**VISUALING AND PREDICTING THE MODEL ON THE PAST 50 RESPONSES IN THE DATASET**"
      ]
    },
    {
      "cell_type": "code",
      "metadata": {
        "id": "XQEU-rDrjQz6"
      },
      "source": [
        "test_set = pd.read_csv('BRITANNIA.csv')\n",
        "real_stock_price = dataset.iloc[-50:,4:5].values"
      ],
      "execution_count": 20,
      "outputs": []
    },
    {
      "cell_type": "code",
      "metadata": {
        "id": "sFTnw2zSjT-4"
      },
      "source": [
        "inputs = real_stock_price\n",
        "inputs = sc.transform(inputs)"
      ],
      "execution_count": 21,
      "outputs": []
    },
    {
      "cell_type": "code",
      "metadata": {
        "id": "PW1is2tfjXNe"
      },
      "source": [
        "inputs = np.reshape(inputs,(50,1,1))\n",
        "predict_stock_price = regressor.predict(inputs)"
      ],
      "execution_count": 22,
      "outputs": []
    },
    {
      "cell_type": "code",
      "metadata": {
        "id": "0EUf05VMjZI3"
      },
      "source": [
        "predicted_stock_price = sc.inverse_transform(predict_stock_price)"
      ],
      "execution_count": 23,
      "outputs": []
    },
    {
      "cell_type": "code",
      "metadata": {
        "colab": {
          "base_uri": "https://localhost:8080/",
          "height": 404
        },
        "id": "ffdpJGJbjbA7",
        "outputId": "70abf4e4-debd-42d3-9795-fc26b4886dc2"
      },
      "source": [
        "plt.figure(figsize=(16,6))\n",
        "plt.plot(real_stock_price[1:], color='red', label='Real Britannia Stock Price')\n",
        "plt.plot(predicted_stock_price, color='blue', label='Predicted Britannia Stock Price')\n",
        "plt.title('Britannia stock price Prediction')\n",
        "plt.xlabel('Time')\n",
        "plt.ylabel('Britannia Stock Price')\n",
        "plt.legend()\n",
        "plt.show()"
      ],
      "execution_count": 24,
      "outputs": [
        {
          "output_type": "display_data",
          "data": {
            "image/png": "[encoded data removed]",
            "text/plain": [
              "<Figure size 1152x432 with 1 Axes>"
            ]
          },
          "metadata": {
            "tags": [],
            "needs_background": "light"
          }
        }
      ]
    }
  ]
}