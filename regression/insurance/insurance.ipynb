{
  "nbformat": 4,
  "nbformat_minor": 0,
  "metadata": {
    "colab": {
      "name": "Untitled0.ipynb",
      "provenance": []
    },
    "kernelspec": {
      "name": "python3",
      "display_name": "Python 3"
    },
    "language_info": {
      "name": "python"
    },
    "accelerator": "GPU"
  },
  "cells": [
    {
      "cell_type": "markdown",
      "metadata": {
        "id": "3f7xkOKtG9Sb"
      },
      "source": [
        " **IMPORTING THE LIBRARIES**"
      ]
    },
    {
      "cell_type": "code",
      "metadata": {
        "id": "cSJOViZEHBFC"
      },
      "source": [
        "import numpy as np\n",
        "import matplotlib.pyplot as plt\n",
        "import pandas as pd\n",
        "import seaborn as sns"
      ],
      "execution_count": 1,
      "outputs": []
    },
    {
      "cell_type": "markdown",
      "metadata": {
        "id": "n1_mi4wIHMzC"
      },
      "source": [
        "**IMPORTING THE DATASET**"
      ]
    },
    {
      "cell_type": "code",
      "metadata": {
        "id": "cVmzAGJ2HRlC"
      },
      "source": [
        "dataset = pd.read_csv('insurance.csv')"
      ],
      "execution_count": 2,
      "outputs": []
    },
    {
      "cell_type": "markdown",
      "metadata": {
        "id": "bcGq479NHU8C"
      },
      "source": [
        "**DATA VISUALIZATION**\n",
        "\n",
        "\n"
      ]
    },
    {
      "cell_type": "code",
      "metadata": {
        "colab": {
          "base_uri": "https://localhost:8080/",
          "height": 195
        },
        "id": "IsemZ2e0HY0R",
        "outputId": "56dc7beb-4ed6-4a4d-e376-12eb40a70534"
      },
      "source": [
        "dataset.head()"
      ],
      "execution_count": 3,
      "outputs": [
        {
          "output_type": "execute_result",
          "data": {
            "text/html": [
              "<div>\n",
              "<style scoped>\n",
              "    .dataframe tbody tr th:only-of-type {\n",
              "        vertical-align: middle;\n",
              "    }\n",
              "\n",
              "    .dataframe tbody tr th {\n",
              "        vertical-align: top;\n",
              "    }\n",
              "\n",
              "    .dataframe thead th {\n",
              "        text-align: right;\n",
              "    }\n",
              "</style>\n",
              "<table border=\"1\" class=\"dataframe\">\n",
              "  <thead>\n",
              "    <tr style=\"text-align: right;\">\n",
              "      <th></th>\n",
              "      <th>age</th>\n",
              "      <th>sex</th>\n",
              "      <th>bmi</th>\n",
              "      <th>children</th>\n",
              "      <th>smoker</th>\n",
              "      <th>region</th>\n",
              "      <th>charges</th>\n",
              "    </tr>\n",
              "  </thead>\n",
              "  <tbody>\n",
              "    <tr>\n",
              "      <th>0</th>\n",
              "      <td>19</td>\n",
              "      <td>0</td>\n",
              "      <td>27.900</td>\n",
              "      <td>0</td>\n",
              "      <td>1</td>\n",
              "      <td>3</td>\n",
              "      <td>16884.92400</td>\n",
              "    </tr>\n",
              "    <tr>\n",
              "      <th>1</th>\n",
              "      <td>18</td>\n",
              "      <td>1</td>\n",
              "      <td>33.770</td>\n",
              "      <td>1</td>\n",
              "      <td>0</td>\n",
              "      <td>2</td>\n",
              "      <td>1725.55230</td>\n",
              "    </tr>\n",
              "    <tr>\n",
              "      <th>2</th>\n",
              "      <td>28</td>\n",
              "      <td>1</td>\n",
              "      <td>33.000</td>\n",
              "      <td>3</td>\n",
              "      <td>0</td>\n",
              "      <td>2</td>\n",
              "      <td>4449.46200</td>\n",
              "    </tr>\n",
              "    <tr>\n",
              "      <th>3</th>\n",
              "      <td>33</td>\n",
              "      <td>1</td>\n",
              "      <td>22.705</td>\n",
              "      <td>0</td>\n",
              "      <td>0</td>\n",
              "      <td>1</td>\n",
              "      <td>21984.47061</td>\n",
              "    </tr>\n",
              "    <tr>\n",
              "      <th>4</th>\n",
              "      <td>32</td>\n",
              "      <td>1</td>\n",
              "      <td>28.880</td>\n",
              "      <td>0</td>\n",
              "      <td>0</td>\n",
              "      <td>1</td>\n",
              "      <td>3866.85520</td>\n",
              "    </tr>\n",
              "  </tbody>\n",
              "</table>\n",
              "</div>"
            ],
            "text/plain": [
              "   age  sex     bmi  children  smoker  region      charges\n",
              "0   19    0  27.900         0       1       3  16884.92400\n",
              "1   18    1  33.770         1       0       2   1725.55230\n",
              "2   28    1  33.000         3       0       2   4449.46200\n",
              "3   33    1  22.705         0       0       1  21984.47061\n",
              "4   32    1  28.880         0       0       1   3866.85520"
            ]
          },
          "metadata": {
            "tags": []
          },
          "execution_count": 3
        }
      ]
    },
    {
      "cell_type": "code",
      "metadata": {
        "colab": {
          "base_uri": "https://localhost:8080/",
          "height": 195
        },
        "id": "RmldBH0-HbJg",
        "outputId": "22ee1e52-2933-45d2-dc5a-e9dabe0f46ec"
      },
      "source": [
        "dataset.tail()"
      ],
      "execution_count": 4,
      "outputs": [
        {
          "output_type": "execute_result",
          "data": {
            "text/html": [
              "<div>\n",
              "<style scoped>\n",
              "    .dataframe tbody tr th:only-of-type {\n",
              "        vertical-align: middle;\n",
              "    }\n",
              "\n",
              "    .dataframe tbody tr th {\n",
              "        vertical-align: top;\n",
              "    }\n",
              "\n",
              "    .dataframe thead th {\n",
              "        text-align: right;\n",
              "    }\n",
              "</style>\n",
              "<table border=\"1\" class=\"dataframe\">\n",
              "  <thead>\n",
              "    <tr style=\"text-align: right;\">\n",
              "      <th></th>\n",
              "      <th>age</th>\n",
              "      <th>sex</th>\n",
              "      <th>bmi</th>\n",
              "      <th>children</th>\n",
              "      <th>smoker</th>\n",
              "      <th>region</th>\n",
              "      <th>charges</th>\n",
              "    </tr>\n",
              "  </thead>\n",
              "  <tbody>\n",
              "    <tr>\n",
              "      <th>343</th>\n",
              "      <td>63</td>\n",
              "      <td>1</td>\n",
              "      <td>36.765</td>\n",
              "      <td>0</td>\n",
              "      <td>0</td>\n",
              "      <td>0</td>\n",
              "      <td>13981.85035</td>\n",
              "    </tr>\n",
              "    <tr>\n",
              "      <th>344</th>\n",
              "      <td>49</td>\n",
              "      <td>0</td>\n",
              "      <td>41.470</td>\n",
              "      <td>4</td>\n",
              "      <td>0</td>\n",
              "      <td>2</td>\n",
              "      <td>10977.20630</td>\n",
              "    </tr>\n",
              "    <tr>\n",
              "      <th>345</th>\n",
              "      <td>34</td>\n",
              "      <td>0</td>\n",
              "      <td>29.260</td>\n",
              "      <td>3</td>\n",
              "      <td>0</td>\n",
              "      <td>2</td>\n",
              "      <td>6184.29940</td>\n",
              "    </tr>\n",
              "    <tr>\n",
              "      <th>346</th>\n",
              "      <td>33</td>\n",
              "      <td>1</td>\n",
              "      <td>35.750</td>\n",
              "      <td>2</td>\n",
              "      <td>0</td>\n",
              "      <td>2</td>\n",
              "      <td>4889.99950</td>\n",
              "    </tr>\n",
              "    <tr>\n",
              "      <th>347</th>\n",
              "      <td>46</td>\n",
              "      <td>1</td>\n",
              "      <td>33.345</td>\n",
              "      <td>1</td>\n",
              "      <td>0</td>\n",
              "      <td>0</td>\n",
              "      <td>8334.45755</td>\n",
              "    </tr>\n",
              "  </tbody>\n",
              "</table>\n",
              "</div>"
            ],
            "text/plain": [
              "     age  sex     bmi  children  smoker  region      charges\n",
              "343   63    1  36.765         0       0       0  13981.85035\n",
              "344   49    0  41.470         4       0       2  10977.20630\n",
              "345   34    0  29.260         3       0       2   6184.29940\n",
              "346   33    1  35.750         2       0       2   4889.99950\n",
              "347   46    1  33.345         1       0       0   8334.45755"
            ]
          },
          "metadata": {
            "tags": []
          },
          "execution_count": 4
        }
      ]
    },
    {
      "cell_type": "code",
      "metadata": {
        "colab": {
          "base_uri": "https://localhost:8080/"
        },
        "id": "4dIq5darHc9y",
        "outputId": "1de901f2-acc3-47bb-f2d7-f8d775a5ecd2"
      },
      "source": [
        "dataset.info()"
      ],
      "execution_count": 5,
      "outputs": [
        {
          "output_type": "stream",
          "text": [
            "<class 'pandas.core.frame.DataFrame'>\n",
            "RangeIndex: 348 entries, 0 to 347\n",
            "Data columns (total 7 columns):\n",
            " #   Column    Non-Null Count  Dtype  \n",
            "---  ------    --------------  -----  \n",
            " 0   age       348 non-null    int64  \n",
            " 1   sex       348 non-null    int64  \n",
            " 2   bmi       348 non-null    float64\n",
            " 3   children  348 non-null    int64  \n",
            " 4   smoker    348 non-null    int64  \n",
            " 5   region    348 non-null    int64  \n",
            " 6   charges   348 non-null    float64\n",
            "dtypes: float64(2), int64(5)\n",
            "memory usage: 19.2 KB\n"
          ],
          "name": "stdout"
        }
      ]
    },
    {
      "cell_type": "code",
      "metadata": {
        "colab": {
          "base_uri": "https://localhost:8080/"
        },
        "id": "s-XEjIokIU90",
        "outputId": "67250d88-f721-49ec-f3eb-ba723c3e5bd1"
      },
      "source": [
        "dataset.isna().any()"
      ],
      "execution_count": 6,
      "outputs": [
        {
          "output_type": "execute_result",
          "data": {
            "text/plain": [
              "age         False\n",
              "sex         False\n",
              "bmi         False\n",
              "children    False\n",
              "smoker      False\n",
              "region      False\n",
              "charges     False\n",
              "dtype: bool"
            ]
          },
          "metadata": {
            "tags": []
          },
          "execution_count": 6
        }
      ]
    },
    {
      "cell_type": "code",
      "metadata": {
        "colab": {
          "base_uri": "https://localhost:8080/",
          "height": 284
        },
        "id": "br06Q0h6IZSJ",
        "outputId": "cf4b1453-2b49-4b2e-de9c-4432abcacf24"
      },
      "source": [
        "dataset.describe()"
      ],
      "execution_count": 7,
      "outputs": [
        {
          "output_type": "execute_result",
          "data": {
            "text/html": [
              "<div>\n",
              "<style scoped>\n",
              "    .dataframe tbody tr th:only-of-type {\n",
              "        vertical-align: middle;\n",
              "    }\n",
              "\n",
              "    .dataframe tbody tr th {\n",
              "        vertical-align: top;\n",
              "    }\n",
              "\n",
              "    .dataframe thead th {\n",
              "        text-align: right;\n",
              "    }\n",
              "</style>\n",
              "<table border=\"1\" class=\"dataframe\">\n",
              "  <thead>\n",
              "    <tr style=\"text-align: right;\">\n",
              "      <th></th>\n",
              "      <th>age</th>\n",
              "      <th>sex</th>\n",
              "      <th>bmi</th>\n",
              "      <th>children</th>\n",
              "      <th>smoker</th>\n",
              "      <th>region</th>\n",
              "      <th>charges</th>\n",
              "    </tr>\n",
              "  </thead>\n",
              "  <tbody>\n",
              "    <tr>\n",
              "      <th>count</th>\n",
              "      <td>348.000000</td>\n",
              "      <td>348.000000</td>\n",
              "      <td>348.000000</td>\n",
              "      <td>348.000000</td>\n",
              "      <td>348.000000</td>\n",
              "      <td>348.000000</td>\n",
              "      <td>348.000000</td>\n",
              "    </tr>\n",
              "    <tr>\n",
              "      <th>mean</th>\n",
              "      <td>39.591954</td>\n",
              "      <td>0.508621</td>\n",
              "      <td>30.676552</td>\n",
              "      <td>1.091954</td>\n",
              "      <td>0.232759</td>\n",
              "      <td>1.497126</td>\n",
              "      <td>14016.426293</td>\n",
              "    </tr>\n",
              "    <tr>\n",
              "      <th>std</th>\n",
              "      <td>14.417015</td>\n",
              "      <td>0.500646</td>\n",
              "      <td>5.625850</td>\n",
              "      <td>1.192021</td>\n",
              "      <td>0.423198</td>\n",
              "      <td>1.104089</td>\n",
              "      <td>12638.887852</td>\n",
              "    </tr>\n",
              "    <tr>\n",
              "      <th>min</th>\n",
              "      <td>18.000000</td>\n",
              "      <td>0.000000</td>\n",
              "      <td>15.960000</td>\n",
              "      <td>0.000000</td>\n",
              "      <td>0.000000</td>\n",
              "      <td>0.000000</td>\n",
              "      <td>1137.011000</td>\n",
              "    </tr>\n",
              "    <tr>\n",
              "      <th>25%</th>\n",
              "      <td>27.000000</td>\n",
              "      <td>0.000000</td>\n",
              "      <td>26.782500</td>\n",
              "      <td>0.000000</td>\n",
              "      <td>0.000000</td>\n",
              "      <td>1.000000</td>\n",
              "      <td>4888.466125</td>\n",
              "    </tr>\n",
              "    <tr>\n",
              "      <th>50%</th>\n",
              "      <td>40.000000</td>\n",
              "      <td>1.000000</td>\n",
              "      <td>30.300000</td>\n",
              "      <td>1.000000</td>\n",
              "      <td>0.000000</td>\n",
              "      <td>2.000000</td>\n",
              "      <td>9719.305250</td>\n",
              "    </tr>\n",
              "    <tr>\n",
              "      <th>75%</th>\n",
              "      <td>53.000000</td>\n",
              "      <td>1.000000</td>\n",
              "      <td>34.777500</td>\n",
              "      <td>2.000000</td>\n",
              "      <td>0.000000</td>\n",
              "      <td>2.000000</td>\n",
              "      <td>19006.316150</td>\n",
              "    </tr>\n",
              "    <tr>\n",
              "      <th>max</th>\n",
              "      <td>64.000000</td>\n",
              "      <td>1.000000</td>\n",
              "      <td>49.060000</td>\n",
              "      <td>5.000000</td>\n",
              "      <td>1.000000</td>\n",
              "      <td>3.000000</td>\n",
              "      <td>51194.559140</td>\n",
              "    </tr>\n",
              "  </tbody>\n",
              "</table>\n",
              "</div>"
            ],
            "text/plain": [
              "              age         sex         bmi  ...      smoker      region       charges\n",
              "count  348.000000  348.000000  348.000000  ...  348.000000  348.000000    348.000000\n",
              "mean    39.591954    0.508621   30.676552  ...    0.232759    1.497126  14016.426293\n",
              "std     14.417015    0.500646    5.625850  ...    0.423198    1.104089  12638.887852\n",
              "min     18.000000    0.000000   15.960000  ...    0.000000    0.000000   1137.011000\n",
              "25%     27.000000    0.000000   26.782500  ...    0.000000    1.000000   4888.466125\n",
              "50%     40.000000    1.000000   30.300000  ...    0.000000    2.000000   9719.305250\n",
              "75%     53.000000    1.000000   34.777500  ...    0.000000    2.000000  19006.316150\n",
              "max     64.000000    1.000000   49.060000  ...    1.000000    3.000000  51194.559140\n",
              "\n",
              "[8 rows x 7 columns]"
            ]
          },
          "metadata": {
            "tags": []
          },
          "execution_count": 7
        }
      ]
    },
    {
      "cell_type": "code",
      "metadata": {
        "colab": {
          "base_uri": "https://localhost:8080/",
          "height": 350
        },
        "id": "Gzci1CTcIjhh",
        "outputId": "07a07f9a-c146-4997-bb33-09657c15be87"
      },
      "source": [
        "sns.countplot(dataset['sex'])"
      ],
      "execution_count": 8,
      "outputs": [
        {
          "output_type": "stream",
          "text": [
            "/usr/local/lib/python3.7/dist-packages/seaborn/_decorators.py:43: FutureWarning: Pass the following variable as a keyword arg: x. From version 0.12, the only valid positional argument will be `data`, and passing other arguments without an explicit keyword will result in an error or misinterpretation.\n",
            "  FutureWarning\n"
          ],
          "name": "stderr"
        },
        {
          "output_type": "execute_result",
          "data": {
            "text/plain": [
              "<matplotlib.axes._subplots.AxesSubplot at 0x7f7b72731b10>"
            ]
          },
          "metadata": {
            "tags": []
          },
          "execution_count": 8
        },
        {
          "output_type": "display_data",
          "data": {
            "image/png": "[encoded data removed]",
            "text/plain": [
              "<Figure size 432x288 with 1 Axes>"
            ]
          },
          "metadata": {
            "tags": [],
            "needs_background": "light"
          }
        }
      ]
    },
    {
      "cell_type": "code",
      "metadata": {
        "colab": {
          "base_uri": "https://localhost:8080/",
          "height": 350
        },
        "id": "Cq_kJKaHIkS3",
        "outputId": "8be824be-555a-41ea-e5b3-aa2288af4722"
      },
      "source": [
        "sns.countplot(dataset['smoker'])"
      ],
      "execution_count": 9,
      "outputs": [
        {
          "output_type": "stream",
          "text": [
            "/usr/local/lib/python3.7/dist-packages/seaborn/_decorators.py:43: FutureWarning: Pass the following variable as a keyword arg: x. From version 0.12, the only valid positional argument will be `data`, and passing other arguments without an explicit keyword will result in an error or misinterpretation.\n",
            "  FutureWarning\n"
          ],
          "name": "stderr"
        },
        {
          "output_type": "execute_result",
          "data": {
            "text/plain": [
              "<matplotlib.axes._subplots.AxesSubplot at 0x7f7b72612dd0>"
            ]
          },
          "metadata": {
            "tags": []
          },
          "execution_count": 9
        },
        {
          "output_type": "display_data",
          "data": {
            "image/png": "[encoded data removed]",
            "text/plain": [
              "<Figure size 432x288 with 1 Axes>"
            ]
          },
          "metadata": {
            "tags": [],
            "needs_background": "light"
          }
        }
      ]
    },
    {
      "cell_type": "code",
      "metadata": {
        "colab": {
          "base_uri": "https://localhost:8080/",
          "height": 569
        },
        "id": "XL7mbA2jIwMk",
        "outputId": "812d86af-fe7e-4aa3-a74e-cfe521c47db3"
      },
      "source": [
        "dataset['age_bins'] = pd.cut(x = dataset['age'],bins=[10,20,30,40,50,60,70])\n",
        "fig, ax = plt.subplots(figsize=(12,8))\n",
        "sns.countplot(dataset['age_bins'], ax = ax)"
      ],
      "execution_count": 10,
      "outputs": [
        {
          "output_type": "stream",
          "text": [
            "/usr/local/lib/python3.7/dist-packages/seaborn/_decorators.py:43: FutureWarning: Pass the following variable as a keyword arg: x. From version 0.12, the only valid positional argument will be `data`, and passing other arguments without an explicit keyword will result in an error or misinterpretation.\n",
            "  FutureWarning\n"
          ],
          "name": "stderr"
        },
        {
          "output_type": "execute_result",
          "data": {
            "text/plain": [
              "<matplotlib.axes._subplots.AxesSubplot at 0x7f7b71ea1f90>"
            ]
          },
          "metadata": {
            "tags": []
          },
          "execution_count": 10
        },
        {
          "output_type": "display_data",
          "data": {
            "image/png": "[encoded data removed]",
            "text/plain": [
              "<Figure size 864x576 with 1 Axes>"
            ]
          },
          "metadata": {
            "tags": [],
            "needs_background": "light"
          }
        }
      ]
    },
    {
      "cell_type": "code",
      "metadata": {
        "colab": {
          "base_uri": "https://localhost:8080/",
          "height": 297
        },
        "id": "EOpRCUwnJaVZ",
        "outputId": "99a08a3e-ce2b-450c-95c1-4469739ba928"
      },
      "source": [
        "dataset.groupby(by='age_bins')['charges'].mean().plot()"
      ],
      "execution_count": 11,
      "outputs": [
        {
          "output_type": "execute_result",
          "data": {
            "text/plain": [
              "<matplotlib.axes._subplots.AxesSubplot at 0x7f7b71609e50>"
            ]
          },
          "metadata": {
            "tags": []
          },
          "execution_count": 11
        },
        {
          "output_type": "display_data",
          "data": {
            "image/png": "[encoded data removed]",
            "text/plain": [
              "<Figure size 432x288 with 1 Axes>"
            ]
          },
          "metadata": {
            "tags": [],
            "needs_background": "light"
          }
        }
      ]
    },
    {
      "cell_type": "code",
      "metadata": {
        "colab": {
          "base_uri": "https://localhost:8080/",
          "height": 361
        },
        "id": "PnJURDYUJl1F",
        "outputId": "c354cebf-1e50-4b09-96dd-dfd8e68b6b7e"
      },
      "source": [
        "sns.distplot(dataset['charges'])"
      ],
      "execution_count": 12,
      "outputs": [
        {
          "output_type": "stream",
          "text": [
            "/usr/local/lib/python3.7/dist-packages/seaborn/distributions.py:2557: FutureWarning: `distplot` is a deprecated function and will be removed in a future version. Please adapt your code to use either `displot` (a figure-level function with similar flexibility) or `histplot` (an axes-level function for histograms).\n",
            "  warnings.warn(msg, FutureWarning)\n"
          ],
          "name": "stderr"
        },
        {
          "output_type": "execute_result",
          "data": {
            "text/plain": [
              "<matplotlib.axes._subplots.AxesSubplot at 0x7f7b715501d0>"
            ]
          },
          "metadata": {
            "tags": []
          },
          "execution_count": 12
        },
        {
          "output_type": "display_data",
          "data": {
            "image/png": "[encoded data removed]",
            "text/plain": [
              "<Figure size 432x288 with 1 Axes>"
            ]
          },
          "metadata": {
            "tags": [],
            "needs_background": "light"
          }
        }
      ]
    },
    {
      "cell_type": "markdown",
      "metadata": {
        "id": "f63MmtatKgtG"
      },
      "source": [
        "**SPLITTING THE DATASET INTO TRAINING AND TEST SET**"
      ]
    },
    {
      "cell_type": "code",
      "metadata": {
        "id": "8oAxsBUXKpgg"
      },
      "source": [
        "X = dataset.drop(columns=['age_bins','charges'])\n",
        "y = dataset['charges']"
      ],
      "execution_count": 13,
      "outputs": []
    },
    {
      "cell_type": "code",
      "metadata": {
        "colab": {
          "base_uri": "https://localhost:8080/"
        },
        "id": "v-U10NFTLAi0",
        "outputId": "39f6f0f3-904f-4ab4-ad72-fccb1871504f"
      },
      "source": [
        "print(X)"
      ],
      "execution_count": 14,
      "outputs": [
        {
          "output_type": "stream",
          "text": [
            "     age  sex     bmi  children  smoker  region\n",
            "0     19    0  27.900         0       1       3\n",
            "1     18    1  33.770         1       0       2\n",
            "2     28    1  33.000         3       0       2\n",
            "3     33    1  22.705         0       0       1\n",
            "4     32    1  28.880         0       0       1\n",
            "..   ...  ...     ...       ...     ...     ...\n",
            "343   63    1  36.765         0       0       0\n",
            "344   49    0  41.470         4       0       2\n",
            "345   34    0  29.260         3       0       2\n",
            "346   33    1  35.750         2       0       2\n",
            "347   46    1  33.345         1       0       0\n",
            "\n",
            "[348 rows x 6 columns]\n"
          ],
          "name": "stdout"
        }
      ]
    },
    {
      "cell_type": "code",
      "metadata": {
        "colab": {
          "base_uri": "https://localhost:8080/"
        },
        "id": "gbLy0ju5LZ70",
        "outputId": "a7a86d0e-a968-4e2a-92d2-220ca94abaee"
      },
      "source": [
        "print(y)"
      ],
      "execution_count": 15,
      "outputs": [
        {
          "output_type": "stream",
          "text": [
            "0      16884.92400\n",
            "1       1725.55230\n",
            "2       4449.46200\n",
            "3      21984.47061\n",
            "4       3866.85520\n",
            "          ...     \n",
            "343    13981.85035\n",
            "344    10977.20630\n",
            "345     6184.29940\n",
            "346     4889.99950\n",
            "347     8334.45755\n",
            "Name: charges, Length: 348, dtype: float64\n"
          ],
          "name": "stdout"
        }
      ]
    },
    {
      "cell_type": "code",
      "metadata": {
        "id": "QpbyJ5TpLeH2"
      },
      "source": [
        "from sklearn.model_selection import train_test_split\n",
        "X_train, X_test, y_train, y_test = train_test_split(X, y, test_size = 0.2, random_state = 0)"
      ],
      "execution_count": 16,
      "outputs": []
    },
    {
      "cell_type": "markdown",
      "metadata": {
        "id": "6SB26uFnJ2oF"
      },
      "source": [
        " **MODEL SELECTION**"
      ]
    },
    {
      "cell_type": "markdown",
      "metadata": {
        "id": "DvC_aeeXKLhZ"
      },
      "source": [
        "MULTIPLE-LINEAR REGRESSION"
      ]
    },
    {
      "cell_type": "code",
      "metadata": {
        "colab": {
          "base_uri": "https://localhost:8080/"
        },
        "id": "CSer3L3FJ5Ta",
        "outputId": "2d411dcc-b06e-4545-e00c-01458245f60a"
      },
      "source": [
        "from sklearn.linear_model import LinearRegression\n",
        "multiple_linear_regressor = LinearRegression()\n",
        "multiple_linear_regressor.fit(X_train, y_train)"
      ],
      "execution_count": 17,
      "outputs": [
        {
          "output_type": "execute_result",
          "data": {
            "text/plain": [
              "LinearRegression(copy_X=True, fit_intercept=True, n_jobs=None, normalize=False)"
            ]
          },
          "metadata": {
            "tags": []
          },
          "execution_count": 17
        }
      ]
    },
    {
      "cell_type": "code",
      "metadata": {
        "colab": {
          "base_uri": "https://localhost:8080/"
        },
        "id": "JGtcfqyWLvkk",
        "outputId": "1adfa5af-0f15-49a6-f84c-035a341b9d97"
      },
      "source": [
        "y_pred = multiple_linear_regressor.predict(X_test)\n",
        "np.set_printoptions(precision=2)\n",
        "from sklearn.metrics import r2_score\n",
        "multiple_linear_score = r2_score(y_test, y_pred)*100\n",
        "print('Multiple-Linear Regression Score: ' , multiple_linear_score)"
      ],
      "execution_count": 18,
      "outputs": [
        {
          "output_type": "stream",
          "text": [
            "Multiple-Linear Regression Score:  70.63302200201555\n"
          ],
          "name": "stdout"
        }
      ]
    },
    {
      "cell_type": "markdown",
      "metadata": {
        "id": "npizIon4MO1M"
      },
      "source": [
        "POLYNOMIAL REGRESSION"
      ]
    },
    {
      "cell_type": "code",
      "metadata": {
        "colab": {
          "base_uri": "https://localhost:8080/"
        },
        "id": "sN74O_EcMUkm",
        "outputId": "b8d229e1-fc41-4f5d-848e-b632651c1e0f"
      },
      "source": [
        "from sklearn.preprocessing import PolynomialFeatures\n",
        "from sklearn.linear_model import LinearRegression\n",
        "poly_reg = PolynomialFeatures(degree = 2)\n",
        "X_poly = poly_reg.fit_transform(X_train)\n",
        "polynomial_regressor = LinearRegression()\n",
        "polynomial_regressor.fit(X_poly, y_train)"
      ],
      "execution_count": 19,
      "outputs": [
        {
          "output_type": "execute_result",
          "data": {
            "text/plain": [
              "LinearRegression(copy_X=True, fit_intercept=True, n_jobs=None, normalize=False)"
            ]
          },
          "metadata": {
            "tags": []
          },
          "execution_count": 19
        }
      ]
    },
    {
      "cell_type": "code",
      "metadata": {
        "colab": {
          "base_uri": "https://localhost:8080/"
        },
        "id": "1sIXFerRMkuP",
        "outputId": "b974c0fe-1111-43b9-e009-d40b57f82a6d"
      },
      "source": [
        "y_pred = polynomial_regressor.predict(poly_reg.transform(X_test))\n",
        "np.set_printoptions(precision=2)\n",
        "from sklearn.metrics import r2_score\n",
        "polynomial_score = r2_score(y_test, y_pred)*100\n",
        "print('Polynomial Regression Score: ' , polynomial_score)"
      ],
      "execution_count": 20,
      "outputs": [
        {
          "output_type": "stream",
          "text": [
            "Polynomial Regression Score:  84.02427501270544\n"
          ],
          "name": "stdout"
        }
      ]
    },
    {
      "cell_type": "markdown",
      "metadata": {
        "id": "8OcQ_cxxMwQP"
      },
      "source": [
        "SUPPORT VECTOR REGRESSION"
      ]
    },
    {
      "cell_type": "code",
      "metadata": {
        "colab": {
          "base_uri": "https://localhost:8080/"
        },
        "id": "beO2QZY7OhyJ",
        "outputId": "97ebca54-f230-4802-f9ea-bf1b0f08ef14"
      },
      "source": [
        "print(y)"
      ],
      "execution_count": 21,
      "outputs": [
        {
          "output_type": "stream",
          "text": [
            "0      16884.92400\n",
            "1       1725.55230\n",
            "2       4449.46200\n",
            "3      21984.47061\n",
            "4       3866.85520\n",
            "          ...     \n",
            "343    13981.85035\n",
            "344    10977.20630\n",
            "345     6184.29940\n",
            "346     4889.99950\n",
            "347     8334.45755\n",
            "Name: charges, Length: 348, dtype: float64\n"
          ],
          "name": "stdout"
        }
      ]
    },
    {
      "cell_type": "code",
      "metadata": {
        "id": "GZ1mhiukNkTl"
      },
      "source": [
        "x_SVR = X\n",
        "y_SVR = y.values.reshape(len(y),1)\n",
        "from sklearn.model_selection import train_test_split\n",
        "X_SVR_train, X_SVR_test, y_SVR_train, y_SVR_test = train_test_split(x_SVR, y_SVR, test_size = 0.2, random_state = 0)\n",
        "from sklearn.preprocessing import StandardScaler\n",
        "sc_X = StandardScaler()\n",
        "sc_y = StandardScaler()\n",
        "X_SVR_train = sc_X.fit_transform(X_SVR_train)\n",
        "y_SVR_train = sc_y.fit_transform(y_SVR_train)"
      ],
      "execution_count": 22,
      "outputs": []
    },
    {
      "cell_type": "code",
      "metadata": {
        "colab": {
          "base_uri": "https://localhost:8080/"
        },
        "id": "6Xg1A9EFM0rp",
        "outputId": "3ef71bdc-2a08-48c3-d50d-ca1e56dca8d8"
      },
      "source": [
        "from sklearn.svm import SVR\n",
        "SVR_regressor = SVR(kernel = 'rbf')\n",
        "SVR_regressor.fit(X_SVR_train, y_SVR_train)"
      ],
      "execution_count": 23,
      "outputs": [
        {
          "output_type": "stream",
          "text": [
            "/usr/local/lib/python3.7/dist-packages/sklearn/utils/validation.py:760: DataConversionWarning: A column-vector y was passed when a 1d array was expected. Please change the shape of y to (n_samples, ), for example using ravel().\n",
            "  y = column_or_1d(y, warn=True)\n"
          ],
          "name": "stderr"
        },
        {
          "output_type": "execute_result",
          "data": {
            "text/plain": [
              "SVR(C=1.0, cache_size=200, coef0=0.0, degree=3, epsilon=0.1, gamma='scale',\n",
              "    kernel='rbf', max_iter=-1, shrinking=True, tol=0.001, verbose=False)"
            ]
          },
          "metadata": {
            "tags": []
          },
          "execution_count": 23
        }
      ]
    },
    {
      "cell_type": "code",
      "metadata": {
        "colab": {
          "base_uri": "https://localhost:8080/"
        },
        "id": "YI9ybSOQM_jG",
        "outputId": "d86e77ff-b1e0-45e2-e1d9-53a6a30edca3"
      },
      "source": [
        "y_pred = sc_y.inverse_transform(SVR_regressor.predict(sc_X.transform(X_SVR_test)))\n",
        "np.set_printoptions(precision=2)\n",
        "from sklearn.metrics import r2_score\n",
        "SVR_score = r2_score(y_SVR_test, y_pred)*100\n",
        "print('SVR Regression Score: ' , SVR_score)"
      ],
      "execution_count": 24,
      "outputs": [
        {
          "output_type": "stream",
          "text": [
            "SVR Regression Score:  86.70855157691061\n"
          ],
          "name": "stdout"
        }
      ]
    },
    {
      "cell_type": "markdown",
      "metadata": {
        "id": "4_ZZ1IF2O8E2"
      },
      "source": [
        "DECISION TREE"
      ]
    },
    {
      "cell_type": "code",
      "metadata": {
        "colab": {
          "base_uri": "https://localhost:8080/"
        },
        "id": "jZHkj7jOPB0a",
        "outputId": "959b05f3-55e4-4cd5-f79b-0282337addf1"
      },
      "source": [
        "from sklearn.tree import DecisionTreeRegressor\n",
        "decision_tree_regressor = DecisionTreeRegressor(random_state = 0)\n",
        "decision_tree_regressor.fit(X_train, y_train)"
      ],
      "execution_count": 25,
      "outputs": [
        {
          "output_type": "execute_result",
          "data": {
            "text/plain": [
              "DecisionTreeRegressor(ccp_alpha=0.0, criterion='mse', max_depth=None,\n",
              "                      max_features=None, max_leaf_nodes=None,\n",
              "                      min_impurity_decrease=0.0, min_impurity_split=None,\n",
              "                      min_samples_leaf=1, min_samples_split=2,\n",
              "                      min_weight_fraction_leaf=0.0, presort='deprecated',\n",
              "                      random_state=0, splitter='best')"
            ]
          },
          "metadata": {
            "tags": []
          },
          "execution_count": 25
        }
      ]
    },
    {
      "cell_type": "code",
      "metadata": {
        "colab": {
          "base_uri": "https://localhost:8080/"
        },
        "id": "zW0gPECwPKPb",
        "outputId": "f7a4e643-58e5-4b38-9b1f-e61b8e67640e"
      },
      "source": [
        "y_pred = decision_tree_regressor.predict(X_test)\n",
        "np.set_printoptions(precision=2)\n",
        "from sklearn.metrics import r2_score\n",
        "decision_tree_score = r2_score(y_test, y_pred)*100\n",
        "print('Decision Tree Regression Score: ' , decision_tree_score)"
      ],
      "execution_count": 26,
      "outputs": [
        {
          "output_type": "stream",
          "text": [
            "Decision Tree Regression Score:  62.95555398186391\n"
          ],
          "name": "stdout"
        }
      ]
    },
    {
      "cell_type": "markdown",
      "metadata": {
        "id": "qliOaPTyPdHR"
      },
      "source": [
        "RANDOM FOREST"
      ]
    },
    {
      "cell_type": "code",
      "metadata": {
        "colab": {
          "base_uri": "https://localhost:8080/"
        },
        "id": "yFMpM7W9Prpf",
        "outputId": "eb0e581a-11c5-4829-ed1c-1f600897b162"
      },
      "source": [
        "from sklearn.ensemble import RandomForestRegressor\n",
        "random_forest_regressor = RandomForestRegressor(max_depth=3,random_state=0,n_estimators=55)\n",
        "random_forest_regressor.fit(X_train, y_train)"
      ],
      "execution_count": 27,
      "outputs": [
        {
          "output_type": "execute_result",
          "data": {
            "text/plain": [
              "RandomForestRegressor(bootstrap=True, ccp_alpha=0.0, criterion='mse',\n",
              "                      max_depth=3, max_features='auto', max_leaf_nodes=None,\n",
              "                      max_samples=None, min_impurity_decrease=0.0,\n",
              "                      min_impurity_split=None, min_samples_leaf=1,\n",
              "                      min_samples_split=2, min_weight_fraction_leaf=0.0,\n",
              "                      n_estimators=55, n_jobs=None, oob_score=False,\n",
              "                      random_state=0, verbose=0, warm_start=False)"
            ]
          },
          "metadata": {
            "tags": []
          },
          "execution_count": 27
        }
      ]
    },
    {
      "cell_type": "code",
      "metadata": {
        "colab": {
          "base_uri": "https://localhost:8080/"
        },
        "id": "-DGt21FIP1RF",
        "outputId": "bd6f9f55-40d8-4e80-9b2e-120fb641d0af"
      },
      "source": [
        "y_pred = random_forest_regressor.predict(X_test)\n",
        "np.set_printoptions(precision=2)\n",
        "from sklearn.metrics import r2_score\n",
        "random_forest_score = r2_score(y_test, y_pred)*100\n",
        "print('Random Forest Regression Score: ' , random_forest_score)"
      ],
      "execution_count": 28,
      "outputs": [
        {
          "output_type": "stream",
          "text": [
            "Random Forest Regression Score:  86.32500251501806\n"
          ],
          "name": "stdout"
        }
      ]
    },
    {
      "cell_type": "markdown",
      "metadata": {
        "id": "J_8LiiqvQq4-"
      },
      "source": [
        "COMPARING RESULTS"
      ]
    },
    {
      "cell_type": "code",
      "metadata": {
        "colab": {
          "base_uri": "https://localhost:8080/",
          "height": 544
        },
        "id": "UOzNzm9ZQs1e",
        "outputId": "41b2a2a7-3a04-4c4a-f0f8-33bdd2a20018"
      },
      "source": [
        "fig = plt.figure(figsize=(12,6))\n",
        "ax = fig.add_axes([0,0,1,1])\n",
        "types = ['Multiple Regression', 'Polynomial Regression', 'SVR Regression', 'Decision Tree', 'Random Forest']\n",
        "score = [multiple_linear_score, polynomial_score, SVR_score, decision_tree_score, random_forest_score]\n",
        "ax.bar(types, score)\n",
        "ymax = max(score)\n",
        "plt.title('All Regression Types')\n",
        "plt.xlabel('Types')\n",
        "plt.ylabel('R2 Score')\n",
        "plt.show()\n",
        "print('\\nMax Score is: ', ymax)"
      ],
      "execution_count": 29,
      "outputs": [
        {
          "output_type": "display_data",
          "data": {
            "image/png": "[encoded data removed]",
            "text/plain": [
              "<Figure size 864x432 with 1 Axes>"
            ]
          },
          "metadata": {
            "tags": [],
            "needs_background": "light"
          }
        },
        {
          "output_type": "stream",
          "text": [
            "\n",
            "Max Score is:  86.70855157691061\n"
          ],
          "name": "stdout"
        }
      ]
    },
    {
      "cell_type": "markdown",
      "metadata": {
        "id": "MA49hAvuTI3t"
      },
      "source": [
        "THE OUTPUT OF THE MODEL DEPICTS SVR REGRESSION TO BE THE BEST SUITED MODEL FOR THE GIVEN REGRESSION PROBLEM GIVING AN R2 SCORE OF 86.708%"
      ]
    },
    {
      "cell_type": "markdown",
      "metadata": {
        "id": "fbRRMDpBUYtd"
      },
      "source": [
        " **RESHAPING THE SVR MODEL AND VISUALIZING THE RESULTS {USING THE AGE FACTOR}**"
      ]
    },
    {
      "cell_type": "code",
      "metadata": {
        "id": "fSw4c1bgUYMG"
      },
      "source": [
        "X = dataset['age']\n",
        "y = dataset['charges']\n",
        "X = X.values.reshape(len(X),1)\n",
        "y = y.values.reshape(len(y),1)"
      ],
      "execution_count": 30,
      "outputs": []
    },
    {
      "cell_type": "code",
      "metadata": {
        "id": "Q1blfZVyUvH0"
      },
      "source": [
        "from sklearn.preprocessing import StandardScaler\n",
        "sc_X = StandardScaler()\n",
        "sc_y = StandardScaler()\n",
        "X = sc_X.fit_transform(X)\n",
        "y = sc_y.fit_transform(y)"
      ],
      "execution_count": 31,
      "outputs": []
    },
    {
      "cell_type": "code",
      "metadata": {
        "colab": {
          "base_uri": "https://localhost:8080/"
        },
        "id": "sk5YVK7QUxNT",
        "outputId": "b36647b7-0553-45bb-9055-3843138ad5b7"
      },
      "source": [
        "from sklearn.svm import SVR\n",
        "regressor = SVR(kernel = 'rbf')\n",
        "regressor.fit(X, y)"
      ],
      "execution_count": 32,
      "outputs": [
        {
          "output_type": "stream",
          "text": [
            "/usr/local/lib/python3.7/dist-packages/sklearn/utils/validation.py:760: DataConversionWarning: A column-vector y was passed when a 1d array was expected. Please change the shape of y to (n_samples, ), for example using ravel().\n",
            "  y = column_or_1d(y, warn=True)\n"
          ],
          "name": "stderr"
        },
        {
          "output_type": "execute_result",
          "data": {
            "text/plain": [
              "SVR(C=1.0, cache_size=200, coef0=0.0, degree=3, epsilon=0.1, gamma='scale',\n",
              "    kernel='rbf', max_iter=-1, shrinking=True, tol=0.001, verbose=False)"
            ]
          },
          "metadata": {
            "tags": []
          },
          "execution_count": 32
        }
      ]
    },
    {
      "cell_type": "code",
      "metadata": {
        "colab": {
          "base_uri": "https://localhost:8080/",
          "height": 513
        },
        "id": "xG6CdZx1U0DT",
        "outputId": "74149bf4-dd6b-4ba0-e3b7-b1055ee04ea8"
      },
      "source": [
        "fig = plt.figure(figsize=(10,8))\n",
        "plt.scatter(sc_X.inverse_transform(X), sc_y.inverse_transform(y), color = 'red')\n",
        "plt.plot(sc_X.inverse_transform(X), sc_y.inverse_transform(regressor.predict(X)), color = 'blue')\n",
        "plt.title('Insurance Charges')\n",
        "plt.xlabel('Age')\n",
        "plt.ylabel('Charge')\n",
        "plt.show()"
      ],
      "execution_count": 33,
      "outputs": [
        {
          "output_type": "display_data",
          "data": {
            "image/png": "[encoded data removed]",
            "text/plain": [
              "<Figure size 720x576 with 1 Axes>"
            ]
          },
          "metadata": {
            "tags": [],
            "needs_background": "light"
          }
        }
      ]
    },
    {
      "cell_type": "code",
      "metadata": {
        "colab": {
          "base_uri": "https://localhost:8080/",
          "height": 513
        },
        "id": "9S9omlL6TbAk",
        "outputId": "39b6efeb-b362-4a83-b455-356341e9044b"
      },
      "source": [
        "fig = plt.figure(figsize=(10,8))\n",
        "X_grid = np.arange(min(sc_X.inverse_transform(X)), max(sc_X.inverse_transform(X)), 0.1)\n",
        "X_grid = X_grid.reshape((len(X_grid), 1))\n",
        "plt.scatter(sc_X.inverse_transform(X), sc_y.inverse_transform(y), color = 'red')\n",
        "plt.plot(X_grid, sc_y.inverse_transform(regressor.predict(sc_X.transform(X_grid))), color = 'blue')\n",
        "plt.title('Insurance Charges')\n",
        "plt.xlabel('Age')\n",
        "plt.ylabel('Charge')\n",
        "plt.show()"
      ],
      "execution_count": 34,
      "outputs": [
        {
          "output_type": "display_data",
          "data": {
            "image/png": "[encoded data removed]",
            "text/plain": [
              "<Figure size 720x576 with 1 Axes>"
            ]
          },
          "metadata": {
            "tags": [],
            "needs_background": "light"
          }
        }
      ]
    }
  ]
}