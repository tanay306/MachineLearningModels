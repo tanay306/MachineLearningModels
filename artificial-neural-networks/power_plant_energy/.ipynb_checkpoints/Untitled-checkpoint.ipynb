{
 "cells": [
  {
   "cell_type": "code",
   "execution_count": 1,
   "metadata": {},
   "outputs": [],
   "source": [
    "import numpy as np\n",
    "import pandas as pd\n",
    "import tensorflow as tf"
   ]
  },
  {
   "cell_type": "code",
   "execution_count": 2,
   "metadata": {},
   "outputs": [],
   "source": [
    "#Read Dataset\n",
    "\n",
    "dataset = pd.read_csv('energy.csv')"
   ]
  },
  {
   "cell_type": "code",
   "execution_count": 3,
   "metadata": {},
   "outputs": [],
   "source": [
    "X = dataset.iloc[:, :-1].values\n",
    "y = dataset.iloc[:, -1].values"
   ]
  },
  {
   "cell_type": "code",
   "execution_count": 4,
   "metadata": {},
   "outputs": [],
   "source": [
    "from sklearn.model_selection import train_test_split\n",
    "X_train, X_test, y_train, y_test = train_test_split(X, y, test_size = 0.2, random_state = 0)"
   ]
  },
  {
   "cell_type": "code",
   "execution_count": 6,
   "metadata": {},
   "outputs": [
    {
     "name": "stdout",
     "output_type": "stream",
     "text": [
      "Epoch 1/20\n",
      "240/240 [==============================] - 0s 575us/step - loss: 272076.8369\n",
      "Epoch 2/20\n",
      "240/240 [==============================] - 0s 534us/step - loss: 19542.5446\n",
      "Epoch 3/20\n",
      "240/240 [==============================] - 0s 533us/step - loss: 461.5105\n",
      "Epoch 4/20\n",
      "240/240 [==============================] - 0s 501us/step - loss: 454.0340\n",
      "Epoch 5/20\n",
      "240/240 [==============================] - 0s 704us/step - loss: 425.7877\n",
      "Epoch 6/20\n",
      "240/240 [==============================] - 0s 584us/step - loss: 415.0438\n",
      "Epoch 7/20\n",
      "240/240 [==============================] - 0s 542us/step - loss: 396.4736\n",
      "Epoch 8/20\n",
      "240/240 [==============================] - 0s 526us/step - loss: 368.0208\n",
      "Epoch 9/20\n",
      "240/240 [==============================] - 0s 520us/step - loss: 345.4347\n",
      "Epoch 10/20\n",
      "240/240 [==============================] - 0s 505us/step - loss: 329.8919\n",
      "Epoch 11/20\n",
      "240/240 [==============================] - 0s 519us/step - loss: 300.8279\n",
      "Epoch 12/20\n",
      "240/240 [==============================] - 0s 501us/step - loss: 270.7047\n",
      "Epoch 13/20\n",
      "240/240 [==============================] - 0s 509us/step - loss: 251.0642\n",
      "Epoch 14/20\n",
      "240/240 [==============================] - 0s 573us/step - loss: 222.1441\n",
      "Epoch 15/20\n",
      "240/240 [==============================] - 0s 601us/step - loss: 198.3497\n",
      "Epoch 16/20\n",
      "240/240 [==============================] - 0s 639us/step - loss: 176.8723\n",
      "Epoch 17/20\n",
      "240/240 [==============================] - 0s 458us/step - loss: 147.8492\n",
      "Epoch 18/20\n",
      "240/240 [==============================] - 0s 448us/step - loss: 128.0261\n",
      "Epoch 19/20\n",
      "240/240 [==============================] - 0s 537us/step - loss: 109.0461\n",
      "Epoch 20/20\n",
      "240/240 [==============================] - 0s 522us/step - loss: 92.0712\n"
     ]
    },
    {
     "data": {
      "text/plain": [
       "<tensorflow.python.keras.callbacks.History at 0x2678bcb2a30>"
      ]
     },
     "execution_count": 6,
     "metadata": {},
     "output_type": "execute_result"
    }
   ],
   "source": [
    "ann = tf.keras.models.Sequential()\n",
    "ann.add(tf.keras.layers.Dense(units = 6, activation = 'relu'))\n",
    "ann.add(tf.keras.layers.Dense(units = 6, activation = 'relu'))\n",
    "ann.add(tf.keras.layers.Dense(units=1))\n",
    "ann.compile(optimizer = 'adam', loss = 'mean_squared_error')\n",
    "ann.fit(X_train, y_train, batch_size = 32, epochs = 20)"
   ]
  },
  {
   "cell_type": "code",
   "execution_count": 7,
   "metadata": {},
   "outputs": [],
   "source": [
    "y_pred = ann.predict(X_test)"
   ]
  },
  {
   "cell_type": "code",
   "execution_count": 8,
   "metadata": {},
   "outputs": [
    {
     "name": "stdout",
     "output_type": "stream",
     "text": [
      "[[442.48166]\n",
      " [453.97986]\n",
      " [444.36792]\n",
      " ...\n",
      " [453.42374]\n",
      " [451.61102]\n",
      " [441.2115 ]]\n"
     ]
    }
   ],
   "source": [
    "print(y_pred)"
   ]
  },
  {
   "cell_type": "code",
   "execution_count": null,
   "metadata": {},
   "outputs": [],
   "source": []
  }
 ],
 "metadata": {
  "kernelspec": {
   "display_name": "Python 3",
   "language": "python",
   "name": "python3"
  },
  "language_info": {
   "codemirror_mode": {
    "name": "ipython",
    "version": 3
   },
   "file_extension": ".py",
   "mimetype": "text/x-python",
   "name": "python",
   "nbconvert_exporter": "python",
   "pygments_lexer": "ipython3",
   "version": "3.8.5"
  }
 },
 "nbformat": 4,
 "nbformat_minor": 4
}
